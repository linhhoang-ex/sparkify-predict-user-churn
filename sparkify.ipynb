{
 "cells": [
  {
   "cell_type": "markdown",
   "metadata": {},
   "source": [
    "# Sparkify Project\n",
    "\n",
    "This project investigates a dataset that contains logs of user interactions with a music service provider called Sparkify (an artificial firm). The target is to predict whether a user will churn or stay with the service. We will utilize interactions of users with the music service system to make prediction. The final predictive model is expected to mark correctly which user will churn and which user will stay.\n",
    "\n",
    "This project aims to manipulate a large and realistic dataset with Spark to extract relevant features for predicting churn. We will use Spark MLlib to build machine learning models with large datasets, far beyond what could be done with non-distributed technologies like scikit-learn.\n",
    "This workspace contains a subset (128MB) of the full dataset available (12GB) to work on. The dataset is available [here](https://udacity-dsnd.s3.amazonaws.com/sparkify/mini_sparkify_event_data.json)."
   ]
  },
  {
   "cell_type": "code",
   "execution_count": 1,
   "metadata": {},
   "outputs": [],
   "source": [
    "import numpy as np\n",
    "import pandas as pd\n",
    "import matplotlib.pyplot as plt\n",
    "import seaborn as sns\n",
    "from pyspark.sql import SparkSession, Window\n",
    "from pyspark.ml.feature import VectorAssembler, StandardScaler\n",
    "import pyspark.sql.functions as sf"
   ]
  },
  {
   "cell_type": "code",
   "execution_count": 2,
   "metadata": {},
   "outputs": [],
   "source": [
    "# create a Spark session\n",
    "spark = SparkSession.builder.appName('Sparkify').getOrCreate()"
   ]
  },
  {
   "cell_type": "markdown",
   "metadata": {},
   "source": [
    "## Load and Clean Dataset\n",
    "In this workspace, the mini-dataset file is `data_sparkify_event_mini.json`. Let's load and clean the dataset, checking for invalid or missing data - for example, records without userids or sessionids."
   ]
  },
  {
   "cell_type": "code",
   "execution_count": 3,
   "metadata": {},
   "outputs": [
    {
     "name": "stdout",
     "output_type": "stream",
     "text": [
      "+--------------------+---------+---------+------+-------------+--------+---------+-----+--------------------+------+---------------+-------------+---------+--------------------+------+-------------+--------------------+------+\n",
      "|              artist|     auth|firstName|gender|itemInSession|lastName|   length|level|            location|method|           page| registration|sessionId|                song|status|           ts|           userAgent|userId|\n",
      "+--------------------+---------+---------+------+-------------+--------+---------+-----+--------------------+------+---------------+-------------+---------+--------------------+------+-------------+--------------------+------+\n",
      "|      Martha Tilston|Logged In|    Colin|     M|           50| Freeman|277.89016| paid|     Bakersfield, CA|   PUT|       NextSong|1538173362000|       29|           Rockpools|   200|1538352117000|Mozilla/5.0 (Wind...|    30|\n",
      "|    Five Iron Frenzy|Logged In|    Micah|     M|           79|    Long|236.09424| free|Boston-Cambridge-...|   PUT|       NextSong|1538331630000|        8|              Canada|   200|1538352180000|\"Mozilla/5.0 (Win...|     9|\n",
      "|        Adam Lambert|Logged In|    Colin|     M|           51| Freeman| 282.8273| paid|     Bakersfield, CA|   PUT|       NextSong|1538173362000|       29|   Time For Miracles|   200|1538352394000|Mozilla/5.0 (Wind...|    30|\n",
      "|              Enigma|Logged In|    Micah|     M|           80|    Long|262.71302| free|Boston-Cambridge-...|   PUT|       NextSong|1538331630000|        8|Knocking On Forbi...|   200|1538352416000|\"Mozilla/5.0 (Win...|     9|\n",
      "|           Daft Punk|Logged In|    Colin|     M|           52| Freeman|223.60771| paid|     Bakersfield, CA|   PUT|       NextSong|1538173362000|       29|Harder Better Fas...|   200|1538352676000|Mozilla/5.0 (Wind...|    30|\n",
      "|The All-American ...|Logged In|    Micah|     M|           81|    Long|208.29995| free|Boston-Cambridge-...|   PUT|       NextSong|1538331630000|        8|      Don't Leave Me|   200|1538352678000|\"Mozilla/5.0 (Win...|     9|\n",
      "|The Velvet Underg...|Logged In|    Micah|     M|           82|    Long|260.46649| free|Boston-Cambridge-...|   PUT|       NextSong|1538331630000|        8|         Run Run Run|   200|1538352886000|\"Mozilla/5.0 (Win...|     9|\n",
      "|        Starflyer 59|Logged In|    Colin|     M|           53| Freeman|185.44281| paid|     Bakersfield, CA|   PUT|       NextSong|1538173362000|       29|Passengers (Old A...|   200|1538352899000|Mozilla/5.0 (Wind...|    30|\n",
      "|                NULL|Logged In|    Colin|     M|           54| Freeman|     NULL| paid|     Bakersfield, CA|   PUT|Add to Playlist|1538173362000|       29|                NULL|   200|1538352905000|Mozilla/5.0 (Wind...|    30|\n",
      "|            Frumpies|Logged In|    Colin|     M|           55| Freeman|134.47791| paid|     Bakersfield, CA|   PUT|       NextSong|1538173362000|       29|          Fuck Kitty|   200|1538353084000|Mozilla/5.0 (Wind...|    30|\n",
      "|        Britt Nicole|Logged In|    Micah|     M|           83|    Long| 229.8771| free|Boston-Cambridge-...|   PUT|       NextSong|1538331630000|        8|   Walk On The Water|   200|1538353146000|\"Mozilla/5.0 (Win...|     9|\n",
      "|                NULL|Logged In|    Micah|     M|           84|    Long|     NULL| free|Boston-Cambridge-...|   GET|    Roll Advert|1538331630000|        8|                NULL|   200|1538353150000|\"Mozilla/5.0 (Win...|     9|\n",
      "|Edward Sharpe & T...|Logged In|    Colin|     M|           56| Freeman|223.58159| paid|     Bakersfield, CA|   PUT|       NextSong|1538173362000|       29|                Jade|   200|1538353218000|Mozilla/5.0 (Wind...|    30|\n",
      "|               Tesla|Logged In|    Micah|     M|           85|    Long|201.06404| free|Boston-Cambridge-...|   PUT|       NextSong|1538331630000|        8|      Gettin' Better|   200|1538353375000|\"Mozilla/5.0 (Win...|     9|\n",
      "|                NULL|Logged In|    Micah|     M|           86|    Long|     NULL| free|Boston-Cambridge-...|   PUT|      Thumbs Up|1538331630000|        8|                NULL|   307|1538353376000|\"Mozilla/5.0 (Win...|     9|\n",
      "|         Stan Mosley|Logged In|    Colin|     M|           57| Freeman|246.69995| paid|     Bakersfield, CA|   PUT|       NextSong|1538173362000|       29|   So-Called Friends|   200|1538353441000|Mozilla/5.0 (Wind...|    30|\n",
      "|Florence + The Ma...|Logged In|    Micah|     M|           87|    Long|168.64608| free|Boston-Cambridge-...|   PUT|       NextSong|1538331630000|        8| You've Got The Love|   200|1538353576000|\"Mozilla/5.0 (Win...|     9|\n",
      "|   Tokyo Police Club|Logged In|  Ashlynn|     F|            0|Williams| 166.1122| free|     Tallahassee, FL|   PUT|       NextSong|1537365219000|      217|Citizens Of Tomorrow|   200|1538353668000|\"Mozilla/5.0 (Mac...|    74|\n",
      "|             Orishas|Logged In|    Colin|     M|           58| Freeman|222.22322| paid|     Bakersfield, CA|   PUT|       NextSong|1538173362000|       29|           Represent|   200|1538353687000|Mozilla/5.0 (Wind...|    30|\n",
      "|             Ratatat|Logged In|    Micah|     M|           88|    Long|229.77261| free|Boston-Cambridge-...|   PUT|       NextSong|1538331630000|        8|              Swisha|   200|1538353744000|\"Mozilla/5.0 (Win...|     9|\n",
      "+--------------------+---------+---------+------+-------------+--------+---------+-----+--------------------+------+---------------+-------------+---------+--------------------+------+-------------+--------------------+------+\n",
      "only showing top 20 rows\n",
      "\n"
     ]
    }
   ],
   "source": [
    "df = spark.read.json('data_sparkify_event_mini.json')\n",
    "df.show()"
   ]
  },
  {
   "cell_type": "code",
   "execution_count": 4,
   "metadata": {},
   "outputs": [
    {
     "name": "stdout",
     "output_type": "stream",
     "text": [
      "# of rows: 286500\n",
      "# of columns: 18\n"
     ]
    }
   ],
   "source": [
    "print('# of rows:', df.count())\n",
    "print('# of columns:', len(df.columns))"
   ]
  },
  {
   "cell_type": "code",
   "execution_count": 5,
   "metadata": {},
   "outputs": [
    {
     "name": "stdout",
     "output_type": "stream",
     "text": [
      "root\n",
      " |-- artist: string (nullable = true)\n",
      " |-- auth: string (nullable = true)\n",
      " |-- firstName: string (nullable = true)\n",
      " |-- gender: string (nullable = true)\n",
      " |-- itemInSession: long (nullable = true)\n",
      " |-- lastName: string (nullable = true)\n",
      " |-- length: double (nullable = true)\n",
      " |-- level: string (nullable = true)\n",
      " |-- location: string (nullable = true)\n",
      " |-- method: string (nullable = true)\n",
      " |-- page: string (nullable = true)\n",
      " |-- registration: long (nullable = true)\n",
      " |-- sessionId: long (nullable = true)\n",
      " |-- song: string (nullable = true)\n",
      " |-- status: long (nullable = true)\n",
      " |-- ts: long (nullable = true)\n",
      " |-- userAgent: string (nullable = true)\n",
      " |-- userId: string (nullable = true)\n",
      "\n"
     ]
    }
   ],
   "source": [
    "# print schema\n",
    "df.printSchema()"
   ]
  },
  {
   "cell_type": "code",
   "execution_count": 6,
   "metadata": {},
   "outputs": [
    {
     "name": "stdout",
     "output_type": "stream",
     "text": [
      "+-------+------------------+----------+---------+------+------------------+--------+------------------+------+-----------------+------+-------+--------------------+-----------------+--------------------+------------------+--------------------+--------------------+------------------+\n",
      "|summary|            artist|      auth|firstName|gender|     itemInSession|lastName|            length| level|         location|method|   page|        registration|        sessionId|                song|            status|                  ts|           userAgent|            userId|\n",
      "+-------+------------------+----------+---------+------+------------------+--------+------------------+------+-----------------+------+-------+--------------------+-----------------+--------------------+------------------+--------------------+--------------------+------------------+\n",
      "|  count|            228108|    286500|   278154|278154|            286500|  278154|            228108|286500|           278154|286500| 286500|              278154|           286500|              228108|            286500|              286500|              278154|            286500|\n",
      "|   mean| 551.0852017937219|      NULL|     NULL|  NULL|114.41421291448516|    NULL|249.11718197783478|  NULL|             NULL|  NULL|   NULL|1.535358834085557...|1041.526554973822|            Infinity|210.05459685863875|1.540956889810471...|                NULL| 59682.02278593872|\n",
      "| stddev|1217.7693079161377|      NULL|     NULL|  NULL|129.76726201141113|    NULL| 99.23517921058324|  NULL|             NULL|  NULL|   NULL|3.2913216163276587E9|726.7762634630808|                 NaN|31.505078488422033| 1.507543960823119E9|                NULL|109091.94999910604|\n",
      "|    min|               !!!| Cancelled| Adelaida|     F|                 0|   Adams|           0.78322|  free|       Albany, OR|   GET|  About|       1521380675000|                1|\u001cÃÂg ÃÂtti Gr...|               200|       1538352117000|\"Mozilla/5.0 (Mac...|                  |\n",
      "|    max| ÃÂlafur Arnalds|Logged Out|   Zyonna|     M|              1321|  Wright|        3024.66567|  paid|Winston-Salem, NC|   PUT|Upgrade|       1543247354000|             2474|ÃÂau hafa slopp...|               404|       1543799476000|Mozilla/5.0 (comp...|                99|\n",
      "+-------+------------------+----------+---------+------+------------------+--------+------------------+------+-----------------+------+-------+--------------------+-----------------+--------------------+------------------+--------------------+--------------------+------------------+\n",
      "\n"
     ]
    }
   ],
   "source": [
    "df.describe().show()"
   ]
  },
  {
   "cell_type": "code",
   "execution_count": 7,
   "metadata": {},
   "outputs": [
    {
     "name": "stdout",
     "output_type": "stream",
     "text": [
      "-RECORD 0-----------------------------\n",
      " artist        | Martha Tilston       \n",
      " auth          | Logged In            \n",
      " firstName     | Colin                \n",
      " gender        | M                    \n",
      " itemInSession | 50                   \n",
      " lastName      | Freeman              \n",
      " length        | 277.89016            \n",
      " level         | paid                 \n",
      " location      | Bakersfield, CA      \n",
      " method        | PUT                  \n",
      " page          | NextSong             \n",
      " registration  | 1538173362000        \n",
      " sessionId     | 29                   \n",
      " song          | Rockpools            \n",
      " status        | 200                  \n",
      " ts            | 1538352117000        \n",
      " userAgent     | Mozilla/5.0 (Wind... \n",
      " userId        | 30                   \n",
      "only showing top 1 row\n",
      "\n"
     ]
    }
   ],
   "source": [
    "df.show(1, vertical=True)"
   ]
  },
  {
   "cell_type": "markdown",
   "metadata": {},
   "source": [
    "### Filter out missing values\n",
    "\n",
    "There are rows that don't have any user id.\\\n",
    "Let's investigate why this happened and what should be done to proceed."
   ]
  },
  {
   "cell_type": "code",
   "execution_count": 8,
   "metadata": {},
   "outputs": [
    {
     "name": "stdout",
     "output_type": "stream",
     "text": [
      "+------+\n",
      "|userId|\n",
      "+------+\n",
      "|      |\n",
      "|    10|\n",
      "|   100|\n",
      "|100001|\n",
      "|100002|\n",
      "|100003|\n",
      "|100004|\n",
      "|100005|\n",
      "|100006|\n",
      "|100007|\n",
      "|100008|\n",
      "|100009|\n",
      "|100010|\n",
      "|100011|\n",
      "|100012|\n",
      "|100013|\n",
      "|100014|\n",
      "|100015|\n",
      "|100016|\n",
      "|100017|\n",
      "+------+\n",
      "only showing top 20 rows\n",
      "\n"
     ]
    }
   ],
   "source": [
    "# get all user ids\n",
    "df.select('userId').distinct().orderBy('userId').show()"
   ]
  },
  {
   "cell_type": "markdown",
   "metadata": {},
   "source": [
    "Records without user ids are likely for users that had not logged in.\\\n",
    "Let's check which pages they (users without ids) visited to confirm."
   ]
  },
  {
   "cell_type": "code",
   "execution_count": 9,
   "metadata": {},
   "outputs": [
    {
     "name": "stdout",
     "output_type": "stream",
     "text": [
      "+------+----------+-------------------+\n",
      "|userId|      auth|               page|\n",
      "+------+----------+-------------------+\n",
      "|      |Logged Out|               Home|\n",
      "|      |Logged Out|               Help|\n",
      "|      |Logged Out|              About|\n",
      "|      |Logged Out|              Login|\n",
      "|      |Logged Out|              Error|\n",
      "|      |     Guest|               Help|\n",
      "|      |     Guest|              Error|\n",
      "|      |     Guest|           Register|\n",
      "|      |     Guest|               Home|\n",
      "|      |     Guest|              About|\n",
      "|      |     Guest|Submit Registration|\n",
      "+------+----------+-------------------+\n",
      "\n"
     ]
    }
   ],
   "source": [
    "# list out pages that were visited by users without ids\n",
    "df.select(['userId', 'auth', 'page']).where(sf.col('userId') == '').distinct().show()"
   ]
  },
  {
   "cell_type": "markdown",
   "metadata": {},
   "source": [
    "We confirm that rows without any value for userId are for those who did not log in for playing songs.\n",
    "These users are not related to the task of predicting the user churn, so we can remove them. "
   ]
  },
  {
   "cell_type": "code",
   "execution_count": 10,
   "metadata": {},
   "outputs": [
    {
     "name": "stdout",
     "output_type": "stream",
     "text": [
      "before dropna  286500\n",
      "after dropna:  278154\n"
     ]
    }
   ],
   "source": [
    "# drop records with empty userId\n",
    "print('before dropna ', df.count())\n",
    "df = df.filter(df['userId'] != '')  # df.na.drop() dose not works with empty strings ('')\n",
    "print('after dropna: ', df.count())"
   ]
  },
  {
   "cell_type": "markdown",
   "metadata": {},
   "source": [
    "## Exploratory Data Analysis\n",
    "<!-- When you're working with the full dataset, perform EDA by loading a small subset of the data and doing basic manipulations within Spark. In this workspace, you are already provided a small subset of data you can explore. -->\n",
    "\n",
    "**Define Churn**: Let's create a new column called `churn` to use as the label for the predictive model. We can use the `Cancellation Confirmation` events to define your churn, which happen for both paid and free users. <!-- As a bonus task, you can also look into the `Downgrade` events. -->\n",
    "\n",
    "**Explore Data**: Once we've defined churn, let's perform some exploratory data analysis to observe the behavior for users who stayed vs users who churned. We can start by exploring aggregates on these two groups of users, observing how much of a specific action they experienced per a certain time unit or number of songs played."
   ]
  },
  {
   "cell_type": "markdown",
   "metadata": {},
   "source": [
    "### EDA: Stayed vs. churned users\n",
    "\n",
    "Cancellation Confirmation is the page that a user proceeds with when they want to cancel their service. Therefore, we identify the users who have churned using the `Cancellation Confirmation` event under the `page` column."
   ]
  },
  {
   "cell_type": "code",
   "execution_count": 11,
   "metadata": {},
   "outputs": [
    {
     "name": "stdout",
     "output_type": "stream",
     "text": [
      "+--------------------+\n",
      "|                page|\n",
      "+--------------------+\n",
      "|              Cancel|\n",
      "|    Submit Downgrade|\n",
      "|         Thumbs Down|\n",
      "|                Home|\n",
      "|           Downgrade|\n",
      "|         Roll Advert|\n",
      "|              Logout|\n",
      "|       Save Settings|\n",
      "|Cancellation Conf...|\n",
      "|               About|\n",
      "|            Settings|\n",
      "|     Add to Playlist|\n",
      "|          Add Friend|\n",
      "|            NextSong|\n",
      "|           Thumbs Up|\n",
      "|                Help|\n",
      "|             Upgrade|\n",
      "|               Error|\n",
      "|      Submit Upgrade|\n",
      "+--------------------+\n",
      "\n"
     ]
    }
   ],
   "source": [
    "# list all pages on Sparkify\n",
    "df.select('page').distinct().show()"
   ]
  },
  {
   "cell_type": "code",
   "execution_count": 12,
   "metadata": {},
   "outputs": [
    {
     "name": "stdout",
     "output_type": "stream",
     "text": [
      "+--------------------+---------+---------+------+-------------+---------+---------+-----+--------------------+------+-----------+-------------+---------+--------------------+------+-------------+--------------------+------+----------+-----+\n",
      "|              artist|     auth|firstName|gender|itemInSession| lastName|   length|level|            location|method|       page| registration|sessionId|                song|status|           ts|           userAgent|userId|churnEvent|churn|\n",
      "+--------------------+---------+---------+------+-------------+---------+---------+-----+--------------------+------+-----------+-------------+---------+--------------------+------+-------------+--------------------+------+----------+-----+\n",
      "|                NULL|Logged In| Darianna|     F|           34|Carpenter|     NULL| free|Bridgeport-Stamfo...|   PUT|     Logout|1538016340000|      187|                NULL|   307|1542823952000|\"Mozilla/5.0 (iPh...|100010|         0|    0|\n",
      "|          Lily Allen|Logged In| Darianna|     F|           33|Carpenter|185.25995| free|Bridgeport-Stamfo...|   PUT|   NextSong|1538016340000|      187|                  22|   200|1542823951000|\"Mozilla/5.0 (iPh...|100010|         0|    0|\n",
      "|          John Waite|Logged In| Darianna|     F|           32|Carpenter|269.76608| free|Bridgeport-Stamfo...|   PUT|   NextSong|1538016340000|      187|         Missing You|   200|1542823682000|\"Mozilla/5.0 (iPh...|100010|         0|    0|\n",
      "|             Hermano|Logged In| Darianna|     F|           31|Carpenter|115.90485| free|Bridgeport-Stamfo...|   PUT|   NextSong|1538016340000|      187| Letters From Madrid|   200|1542823567000|\"Mozilla/5.0 (iPh...|100010|         0|    0|\n",
      "|                NULL|Logged In| Darianna|     F|           30|Carpenter|     NULL| free|Bridgeport-Stamfo...|   GET|Roll Advert|1538016340000|      187|                NULL|   200|1542823257000|\"Mozilla/5.0 (iPh...|100010|         0|    0|\n",
      "|            Hot Chip|Logged In| Darianna|     F|           29|Carpenter|319.42485| free|Bridgeport-Stamfo...|   PUT|   NextSong|1538016340000|      187|          Alley Cats|   200|1542823248000|\"Mozilla/5.0 (iPh...|100010|         0|    0|\n",
      "|              Eminem|Logged In| Darianna|     F|           28|Carpenter|302.57587| free|Bridgeport-Stamfo...|   PUT|   NextSong|1538016340000|      187|      Taking My Ball|   200|1542822946000|\"Mozilla/5.0 (iPh...|100010|         0|    0|\n",
      "|          The Police|Logged In| Darianna|     F|           27|Carpenter|305.05751| free|Bridgeport-Stamfo...|   PUT|   NextSong|1538016340000|      187| Walking On The Moon|   200|1542822641000|\"Mozilla/5.0 (iPh...|100010|         0|    0|\n",
      "|               Ke$ha|Logged In| Darianna|     F|           26|Carpenter|207.64689| free|Bridgeport-Stamfo...|   PUT|   NextSong|1538016340000|      187|         Kiss N Tell|   200|1542822434000|\"Mozilla/5.0 (iPh...|100010|         0|    0|\n",
      "|        Gwen Stefani|Logged In| Darianna|     F|           25|Carpenter|264.93342| free|Bridgeport-Stamfo...|   PUT|   NextSong|1538016340000|      187|           Luxurious|   200|1542822170000|\"Mozilla/5.0 (iPh...|100010|         0|    0|\n",
      "|                NULL|Logged In| Darianna|     F|           24|Carpenter|     NULL| free|Bridgeport-Stamfo...|   PUT|  Thumbs Up|1538016340000|      187|                NULL|   307|1542821944000|\"Mozilla/5.0 (iPh...|100010|         0|    0|\n",
      "|           DJ Khaled|Logged In| Darianna|     F|           23|Carpenter|  227.082| free|Bridgeport-Stamfo...|   PUT|   NextSong|1538016340000|      187|All I Do Is Win (...|   200|1542821943000|\"Mozilla/5.0 (iPh...|100010|         0|    0|\n",
      "|      Kelly Clarkson|Logged In| Darianna|     F|           22|Carpenter| 281.5473| free|Bridgeport-Stamfo...|   PUT|   NextSong|1538016340000|      187|        Already Gone|   200|1542821662000|\"Mozilla/5.0 (iPh...|100010|         0|    0|\n",
      "|           Bob James|Logged In| Darianna|     F|           21|Carpenter|345.05098| free|Bridgeport-Stamfo...|   PUT|   NextSong|1538016340000|      187|Angela (Theme Fro...|   200|1542821317000|\"Mozilla/5.0 (iPh...|100010|         0|    0|\n",
      "|Nick Cave & The B...|Logged In| Darianna|     F|           20|Carpenter|367.15057| free|Bridgeport-Stamfo...|   PUT|   NextSong|1538016340000|      187|We Came Along Thi...|   200|1542820950000|\"Mozilla/5.0 (iPh...|100010|         0|    0|\n",
      "|                T.I.|Logged In| Darianna|     F|           19|Carpenter|299.75465| free|Bridgeport-Stamfo...|   PUT|   NextSong|1538016340000|      187|Dead And Gone [fe...|   200|1542820651000|\"Mozilla/5.0 (iPh...|100010|         0|    0|\n",
      "|          Sev Statik|Logged In| Darianna|     F|           18|Carpenter|214.80444| free|Bridgeport-Stamfo...|   PUT|   NextSong|1538016340000|      187|MIC (Speak Life A...|   200|1542820437000|\"Mozilla/5.0 (iPh...|100010|         0|    0|\n",
      "|                NULL|Logged In| Darianna|     F|           17|Carpenter|     NULL| free|Bridgeport-Stamfo...|   PUT|  Thumbs Up|1538016340000|      187|                NULL|   307|1542820180000|\"Mozilla/5.0 (iPh...|100010|         0|    0|\n",
      "|       Drowning Pool|Logged In| Darianna|     F|           16|Carpenter|258.16771| free|Bridgeport-Stamfo...|   PUT|   NextSong|1538016340000|      187|Up Side Down (Exp...|   200|1542820179000|\"Mozilla/5.0 (iPh...|100010|         0|    0|\n",
      "|                NULL|Logged In| Darianna|     F|           15|Carpenter|     NULL| free|Bridgeport-Stamfo...|   PUT|Thumbs Down|1538016340000|      187|                NULL|   307|1542819920000|\"Mozilla/5.0 (iPh...|100010|         0|    0|\n",
      "+--------------------+---------+---------+------+-------------+---------+---------+-----+--------------------+------+-----------+-------------+---------+--------------------+------+-------------+--------------------+------+----------+-----+\n",
      "only showing top 20 rows\n",
      "\n"
     ]
    }
   ],
   "source": [
    "# create a new column calld 'churn' to mark churned users\n",
    "markChurnEvents = sf.udf(lambda x: 1 if x == 'Cancellation Confirmation' else 0, 'integer')\n",
    "df = df.withColumn('churnEvent', markChurnEvents('page'))\n",
    "windowval = Window.partitionBy(\"userId\").orderBy(sf.desc(\"ts\")).rangeBetween(Window.unboundedPreceding, 0)\n",
    "df = df.withColumn(\"churn\", sf.sum(\"churnEvent\").over(windowval))\n",
    "df.show()"
   ]
  },
  {
   "cell_type": "code",
   "execution_count": 13,
   "metadata": {},
   "outputs": [
    {
     "name": "stdout",
     "output_type": "stream",
     "text": [
      "# of users churned: 52\n"
     ]
    }
   ],
   "source": [
    "# pull out users that churned\n",
    "uid_churned = df.select(['userId']).where(sf.col('churnEvent')==1)\n",
    "print('# of users churned:', uid_churned.dropDuplicates().count())"
   ]
  },
  {
   "cell_type": "code",
   "execution_count": 14,
   "metadata": {},
   "outputs": [
    {
     "name": "stdout",
     "output_type": "stream",
     "text": [
      "['18', '32', '125', '105', '17', '143', '101', '129', '121', '51', '87', '122', '12', '58', '73', '3', '106', '103', '28', '54', '29', '70', '53', '100011', '100001', '100024', '100006', '100019', '100003', '100023', '100005', '100017', '100025', '100009', '100012', '100013', '100022', '100014', '100015', '100021', '100007', '200001', '200024', '200011', '200021', '200018', '200015', '200017', '200016', '200020', '300007', '300001']\n"
     ]
    }
   ],
   "source": [
    "# create a list of churned users\n",
    "ls_users_churned = [item[0] for item in uid_churned.toPandas().values.tolist()]\n",
    "print(ls_users_churned)"
   ]
  },
  {
   "cell_type": "code",
   "execution_count": 15,
   "metadata": {},
   "outputs": [
    {
     "name": "stdout",
     "output_type": "stream",
     "text": [
      "Churned: 52\n",
      "Stayed: 173\n"
     ]
    },
    {
     "data": {
      "image/png": "[encoded data removed]",
      "text/plain": [
       "<Figure size 640x480 with 1 Axes>"
      ]
     },
     "metadata": {},
     "output_type": "display_data"
    }
   ],
   "source": [
    "# plotting: # of users churned vs stayed\n",
    "n_churned = df.select(['userId']).where(sf.col('churnEvent')==1).dropDuplicates().count()\n",
    "n_stayed = df.select(['userId']).dropDuplicates().count() - n_churned\n",
    "print('Churned:', n_churned)\n",
    "print('Stayed:', n_stayed)\n",
    "pd.DataFrame({'churned': [n_churned], 'stayed': [n_stayed]}).transpose().plot(\n",
    "    kind='bar', title='Churned vs Stayed Users', rot=0, ylabel='count', legend=False\n",
    ")\n",
    "plt.grid(True, axis='y', alpha=0.5)\n",
    "plt.tight_layout()\n",
    "plt.show()"
   ]
  },
  {
   "cell_type": "code",
   "execution_count": 16,
   "metadata": {},
   "outputs": [
    {
     "name": "stdout",
     "output_type": "stream",
     "text": [
      "churn rate: 23.11 %\n"
     ]
    }
   ],
   "source": [
    "print(f'churn rate: {n_churned / (n_churned + n_stayed) * 100:.2f} %')"
   ]
  },
  {
   "cell_type": "markdown",
   "metadata": {},
   "source": [
    "`Observation`: There are less churned users than those that have stayed (52 vs 172).\n",
    "The data labels of the dataset are unbalanced."
   ]
  },
  {
   "cell_type": "markdown",
   "metadata": {},
   "source": [
    "### EDA: Gender"
   ]
  },
  {
   "cell_type": "code",
   "execution_count": 17,
   "metadata": {},
   "outputs": [
    {
     "data": {
      "text/html": [
       "<div>\n",
       "<style scoped>\n",
       "    .dataframe tbody tr th:only-of-type {\n",
       "        vertical-align: middle;\n",
       "    }\n",
       "\n",
       "    .dataframe tbody tr th {\n",
       "        vertical-align: top;\n",
       "    }\n",
       "\n",
       "    .dataframe thead th {\n",
       "        text-align: right;\n",
       "    }\n",
       "</style>\n",
       "<table border=\"1\" class=\"dataframe\">\n",
       "  <thead>\n",
       "    <tr style=\"text-align: right;\">\n",
       "      <th>gender</th>\n",
       "      <th>F</th>\n",
       "      <th>M</th>\n",
       "    </tr>\n",
       "    <tr>\n",
       "      <th>churn</th>\n",
       "      <th></th>\n",
       "      <th></th>\n",
       "    </tr>\n",
       "  </thead>\n",
       "  <tbody>\n",
       "    <tr>\n",
       "      <th>0</th>\n",
       "      <td>84</td>\n",
       "      <td>89</td>\n",
       "    </tr>\n",
       "    <tr>\n",
       "      <th>1</th>\n",
       "      <td>20</td>\n",
       "      <td>32</td>\n",
       "    </tr>\n",
       "  </tbody>\n",
       "</table>\n",
       "</div>"
      ],
      "text/plain": [
       "gender   F   M\n",
       "churn         \n",
       "0       84  89\n",
       "1       20  32"
      ]
     },
     "execution_count": 17,
     "metadata": {},
     "output_type": "execute_result"
    }
   ],
   "source": [
    "pdf_gender = df.select(['userId', 'gender', 'churn']).dropDuplicates()\\\n",
    "    .groupBy('gender', 'churn').count()\\\n",
    "    .toPandas().set_index('churn').pivot(columns='gender', values='count')\n",
    "pdf_gender.head()"
   ]
  },
  {
   "cell_type": "code",
   "execution_count": 18,
   "metadata": {},
   "outputs": [
    {
     "data": {
      "image/png": "[encoded data removed]",
      "text/plain": [
       "<Figure size 640x480 with 1 Axes>"
      ]
     },
     "metadata": {},
     "output_type": "display_data"
    }
   ],
   "source": [
    "pdf_gender.plot(kind='bar', stacked=False, rot=0,\n",
    "                title='Churned vs Stayed Users by Gender',\n",
    "                ylabel='number of users', xlabel='')\n",
    "plt.grid(True, axis='y', alpha=0.5)\n",
    "plt.xticks([0, 1], ['stayed', 'churned'])\n",
    "plt.tight_layout()\n",
    "plt.show()"
   ]
  },
  {
   "cell_type": "markdown",
   "metadata": {},
   "source": [
    "`Observation`: The ratio of male vs female for users who have churned is higher than that of users who stayed."
   ]
  },
  {
   "cell_type": "markdown",
   "metadata": {},
   "source": [
    "### EDA: Supscription level (paid vs free)\n",
    "In this section, we examine the churn rate for paid and free users."
   ]
  },
  {
   "cell_type": "code",
   "execution_count": 19,
   "metadata": {},
   "outputs": [],
   "source": [
    "churned = df.select(['userId', 'level']).where(sf.col('userId').isin(ls_users_churned)).dropDuplicates().\\\n",
    "    groupBy('level').count().withColumnRenamed('count', 'churned').toPandas().set_index('level')\n",
    "stayed = df.select(['userId', 'level']).where(~sf.col('userId').isin(ls_users_churned)).dropDuplicates().\\\n",
    "    groupBy('level').count().withColumnRenamed('count', 'stayed').toPandas().set_index('level')"
   ]
  },
  {
   "cell_type": "code",
   "execution_count": 20,
   "metadata": {},
   "outputs": [
    {
     "name": "stdout",
     "output_type": "stream",
     "text": [
      "churn rate for paid users: 21.82 %\n",
      "churn rate for free users: 23.59 %\n"
     ]
    }
   ],
   "source": [
    "print(f\"churn rate for paid users: {churned.loc['paid', 'churned'] / (churned.loc['paid', 'churned'] + stayed.loc['paid', 'stayed']) * 100:.2f} %\")\n",
    "print(f\"churn rate for free users: {churned.loc['free', 'churned'] / (churned.loc['free', 'churned'] + stayed.loc['free', 'stayed']) * 100:.2f} %\")"
   ]
  },
  {
   "cell_type": "code",
   "execution_count": 21,
   "metadata": {},
   "outputs": [
    {
     "data": {
      "text/html": [
       "<div>\n",
       "<style scoped>\n",
       "    .dataframe tbody tr th:only-of-type {\n",
       "        vertical-align: middle;\n",
       "    }\n",
       "\n",
       "    .dataframe tbody tr th {\n",
       "        vertical-align: top;\n",
       "    }\n",
       "\n",
       "    .dataframe thead th {\n",
       "        text-align: right;\n",
       "    }\n",
       "</style>\n",
       "<table border=\"1\" class=\"dataframe\">\n",
       "  <thead>\n",
       "    <tr style=\"text-align: right;\">\n",
       "      <th>level</th>\n",
       "      <th>free</th>\n",
       "      <th>paid</th>\n",
       "    </tr>\n",
       "  </thead>\n",
       "  <tbody>\n",
       "    <tr>\n",
       "      <th>stayed</th>\n",
       "      <td>149</td>\n",
       "      <td>129</td>\n",
       "    </tr>\n",
       "    <tr>\n",
       "      <th>churned</th>\n",
       "      <td>46</td>\n",
       "      <td>36</td>\n",
       "    </tr>\n",
       "  </tbody>\n",
       "</table>\n",
       "</div>"
      ],
      "text/plain": [
       "level    free  paid\n",
       "stayed    149   129\n",
       "churned    46    36"
      ]
     },
     "execution_count": 21,
     "metadata": {},
     "output_type": "execute_result"
    }
   ],
   "source": [
    "pdf = churned.join(stayed, on='level', how='outer').transpose().sort_index(ascending=False) \n",
    "pdf"
   ]
  },
  {
   "cell_type": "code",
   "execution_count": 22,
   "metadata": {},
   "outputs": [
    {
     "data": {
      "image/png": "[encoded data removed]",
      "text/plain": [
       "<Figure size 640x480 with 1 Axes>"
      ]
     },
     "metadata": {},
     "output_type": "display_data"
    }
   ],
   "source": [
    "# plotting: churned vs stayed users by subscription level\n",
    "pdf.plot(kind='bar', title='Churned vs Stayed Users by Supscription Level',\n",
    "         rot=0, ylabel='number of users', legend=True)\n",
    "plt.tight_layout()\n",
    "plt.grid(axis='y', alpha=0.5, zorder=-1)\n",
    "plt.show()"
   ]
  },
  {
   "cell_type": "markdown",
   "metadata": {},
   "source": [
    "`Observation`: the churn rate for paid users (21.82%) is slightly lower than that of free users (23.59%). "
   ]
  },
  {
   "cell_type": "markdown",
   "metadata": {},
   "source": [
    "### EDA: Pages visited and user behaviors\n",
    "We can investigate the user behavior by examining which pages are frequently visited by churned and stayed users."
   ]
  },
  {
   "cell_type": "code",
   "execution_count": 23,
   "metadata": {},
   "outputs": [
    {
     "name": "stdout",
     "output_type": "stream",
     "text": [
      "+--------------------+-----+------+\n",
      "|                page|churn| count|\n",
      "+--------------------+-----+------+\n",
      "|            Settings|    0|  1244|\n",
      "|         Thumbs Down|    1|   496|\n",
      "|           Thumbs Up|    1|  1859|\n",
      "|     Add to Playlist|    1|  1038|\n",
      "|               Error|    1|    32|\n",
      "|               About|    1|    56|\n",
      "|         Thumbs Down|    0|  2050|\n",
      "|         Roll Advert|    1|   967|\n",
      "|                Home|    0|  8410|\n",
      "|Cancellation Conf...|    1|    52|\n",
      "|               Error|    0|   220|\n",
      "|              Cancel|    1|    52|\n",
      "|            Settings|    1|   270|\n",
      "|          Add Friend|    1|   636|\n",
      "|             Upgrade|    0|   387|\n",
      "|           Downgrade|    1|   337|\n",
      "|              Logout|    1|   553|\n",
      "|    Submit Downgrade|    1|     9|\n",
      "|       Save Settings|    0|   252|\n",
      "|           Thumbs Up|    0| 10692|\n",
      "|           Downgrade|    0|  1718|\n",
      "|      Submit Upgrade|    0|   127|\n",
      "|         Roll Advert|    0|  2966|\n",
      "|    Submit Downgrade|    0|    54|\n",
      "|              Logout|    0|  2673|\n",
      "|                Home|    1|  1672|\n",
      "|          Add Friend|    0|  3641|\n",
      "|             Upgrade|    1|   112|\n",
      "|      Submit Upgrade|    1|    32|\n",
      "|               About|    0|   439|\n",
      "|     Add to Playlist|    0|  5488|\n",
      "|       Save Settings|    1|    58|\n",
      "|                Help|    1|   239|\n",
      "|            NextSong|    1| 36394|\n",
      "|            NextSong|    0|191714|\n",
      "|                Help|    0|  1215|\n",
      "+--------------------+-----+------+\n",
      "\n"
     ]
    }
   ],
   "source": [
    "# get the number of hits for each page\n",
    "df_page = df.select(['userId', 'churn', 'page']).groupBy('page','churn').count()\n",
    "df_page.show(100)"
   ]
  },
  {
   "cell_type": "code",
   "execution_count": 24,
   "metadata": {},
   "outputs": [
    {
     "name": "stdout",
     "output_type": "stream",
     "text": [
      "+--------------------+------+-----+\n",
      "|                page|     0|    1|\n",
      "+--------------------+------+-----+\n",
      "|              Cancel|     0|   52|\n",
      "|    Submit Downgrade|    54|    9|\n",
      "|         Thumbs Down|  2050|  496|\n",
      "|                Home|  8410| 1672|\n",
      "|           Downgrade|  1718|  337|\n",
      "|         Roll Advert|  2966|  967|\n",
      "|              Logout|  2673|  553|\n",
      "|       Save Settings|   252|   58|\n",
      "|Cancellation Conf...|     0|   52|\n",
      "|               About|   439|   56|\n",
      "|            Settings|  1244|  270|\n",
      "|     Add to Playlist|  5488| 1038|\n",
      "|          Add Friend|  3641|  636|\n",
      "|            NextSong|191714|36394|\n",
      "|           Thumbs Up| 10692| 1859|\n",
      "|                Help|  1215|  239|\n",
      "|             Upgrade|   387|  112|\n",
      "|               Error|   220|   32|\n",
      "|      Submit Upgrade|   127|   32|\n",
      "+--------------------+------+-----+\n",
      "\n"
     ]
    }
   ],
   "source": [
    "# get the number of page hits for each type of user\n",
    "df_page = df_page.groupBy('page').pivot('churn').sum('count').na.fill(0)\n",
    "df_page.show(100)"
   ]
  },
  {
   "cell_type": "code",
   "execution_count": 25,
   "metadata": {},
   "outputs": [
    {
     "name": "stdout",
     "output_type": "stream",
     "text": [
      "+--------------------+------+-----+--------------------+--------------------+\n",
      "|                page|     0|    1|              stayed|             churned|\n",
      "+--------------------+------+-----+--------------------+--------------------+\n",
      "|              Cancel|     0|   52|                 0.0| 0.11590584878744652|\n",
      "|    Submit Downgrade|    54|    9|0.023147155900381498|0.020060627674750357|\n",
      "|         Thumbs Down|  2050|  496|  0.8787346221441126|  1.1055634807417976|\n",
      "|                Home|  8410| 1672|  3.6049552059668226|  3.7268188302425105|\n",
      "|           Downgrade|  1718|  337|  0.7364224784602855|  0.7511590584878745|\n",
      "|         Roll Advert|  2966|  967|  1.2713789703802134|  2.1554029957203995|\n",
      "|              Logout|  2673|  553|  1.1457842170688843|   1.232614122681883|\n",
      "|       Save Settings|   252|   58|   0.108020060868447|  0.1292796005706134|\n",
      "|Cancellation Conf...|     0|   52|                 0.0| 0.11590584878744652|\n",
      "|               About|   439|   56| 0.18817780444939775| 0.12482168330955777|\n",
      "|            Settings|  1244|  270|  0.5332418877791589|  0.6018188302425107|\n",
      "|     Add to Playlist|  5488| 1038|   2.352436881135068|  2.3136590584878745|\n",
      "|          Add Friend|  3641|  636|  1.5607184191349823|   1.417617689015692|\n",
      "|            NextSong|191714|36394|   82.17840456084701|   81.12072039942939|\n",
      "|           Thumbs Up| 10692| 1859|   4.583136868275537|   4.143634094151213|\n",
      "|                Help|  1215|  239|  0.5208110077585837|  0.5327211126961484|\n",
      "|             Upgrade|   387|  112| 0.16588795061940076| 0.24964336661911554|\n",
      "|               Error|   220|   32| 0.09430322774229499| 0.07132667617689016|\n",
      "|      Submit Upgrade|   127|   32| 0.05443868146941575| 0.07132667617689016|\n",
      "+--------------------+------+-----+--------------------+--------------------+\n",
      "\n"
     ]
    }
   ],
   "source": [
    "# calculate the percentage of page hits for each type of user\n",
    "total_chunred = df_page.select(sf.sum('1')).collect()[0][0]\n",
    "total_stayed = df_page.select(sf.sum('0')).collect()[0][0]\n",
    "df_page = df_page.withColumn('stayed', sf.col('0') / total_stayed * 100)\\\n",
    "    .withColumn('churned', sf.col('1') / total_chunred * 100)\n",
    "df_page.show(100)"
   ]
  },
  {
   "cell_type": "code",
   "execution_count": 26,
   "metadata": {},
   "outputs": [
    {
     "data": {
      "text/html": [
       "<div>\n",
       "<style scoped>\n",
       "    .dataframe tbody tr th:only-of-type {\n",
       "        vertical-align: middle;\n",
       "    }\n",
       "\n",
       "    .dataframe tbody tr th {\n",
       "        vertical-align: top;\n",
       "    }\n",
       "\n",
       "    .dataframe thead th {\n",
       "        text-align: right;\n",
       "    }\n",
       "</style>\n",
       "<table border=\"1\" class=\"dataframe\">\n",
       "  <thead>\n",
       "    <tr style=\"text-align: right;\">\n",
       "      <th></th>\n",
       "      <th>page</th>\n",
       "      <th>user_type</th>\n",
       "      <th>percentage</th>\n",
       "    </tr>\n",
       "  </thead>\n",
       "  <tbody>\n",
       "    <tr>\n",
       "      <th>13</th>\n",
       "      <td>NextSong</td>\n",
       "      <td>stayed</td>\n",
       "      <td>82.178405</td>\n",
       "    </tr>\n",
       "    <tr>\n",
       "      <th>32</th>\n",
       "      <td>NextSong</td>\n",
       "      <td>churned</td>\n",
       "      <td>81.120720</td>\n",
       "    </tr>\n",
       "    <tr>\n",
       "      <th>14</th>\n",
       "      <td>Thumbs Up</td>\n",
       "      <td>stayed</td>\n",
       "      <td>4.583137</td>\n",
       "    </tr>\n",
       "    <tr>\n",
       "      <th>33</th>\n",
       "      <td>Thumbs Up</td>\n",
       "      <td>churned</td>\n",
       "      <td>4.143634</td>\n",
       "    </tr>\n",
       "    <tr>\n",
       "      <th>22</th>\n",
       "      <td>Home</td>\n",
       "      <td>churned</td>\n",
       "      <td>3.726819</td>\n",
       "    </tr>\n",
       "    <tr>\n",
       "      <th>3</th>\n",
       "      <td>Home</td>\n",
       "      <td>stayed</td>\n",
       "      <td>3.604955</td>\n",
       "    </tr>\n",
       "    <tr>\n",
       "      <th>11</th>\n",
       "      <td>Add to Playlist</td>\n",
       "      <td>stayed</td>\n",
       "      <td>2.352437</td>\n",
       "    </tr>\n",
       "    <tr>\n",
       "      <th>30</th>\n",
       "      <td>Add to Playlist</td>\n",
       "      <td>churned</td>\n",
       "      <td>2.313659</td>\n",
       "    </tr>\n",
       "    <tr>\n",
       "      <th>24</th>\n",
       "      <td>Roll Advert</td>\n",
       "      <td>churned</td>\n",
       "      <td>2.155403</td>\n",
       "    </tr>\n",
       "    <tr>\n",
       "      <th>12</th>\n",
       "      <td>Add Friend</td>\n",
       "      <td>stayed</td>\n",
       "      <td>1.560718</td>\n",
       "    </tr>\n",
       "    <tr>\n",
       "      <th>31</th>\n",
       "      <td>Add Friend</td>\n",
       "      <td>churned</td>\n",
       "      <td>1.417618</td>\n",
       "    </tr>\n",
       "    <tr>\n",
       "      <th>5</th>\n",
       "      <td>Roll Advert</td>\n",
       "      <td>stayed</td>\n",
       "      <td>1.271379</td>\n",
       "    </tr>\n",
       "    <tr>\n",
       "      <th>25</th>\n",
       "      <td>Logout</td>\n",
       "      <td>churned</td>\n",
       "      <td>1.232614</td>\n",
       "    </tr>\n",
       "    <tr>\n",
       "      <th>6</th>\n",
       "      <td>Logout</td>\n",
       "      <td>stayed</td>\n",
       "      <td>1.145784</td>\n",
       "    </tr>\n",
       "    <tr>\n",
       "      <th>21</th>\n",
       "      <td>Thumbs Down</td>\n",
       "      <td>churned</td>\n",
       "      <td>1.105563</td>\n",
       "    </tr>\n",
       "    <tr>\n",
       "      <th>2</th>\n",
       "      <td>Thumbs Down</td>\n",
       "      <td>stayed</td>\n",
       "      <td>0.878735</td>\n",
       "    </tr>\n",
       "    <tr>\n",
       "      <th>23</th>\n",
       "      <td>Downgrade</td>\n",
       "      <td>churned</td>\n",
       "      <td>0.751159</td>\n",
       "    </tr>\n",
       "    <tr>\n",
       "      <th>4</th>\n",
       "      <td>Downgrade</td>\n",
       "      <td>stayed</td>\n",
       "      <td>0.736422</td>\n",
       "    </tr>\n",
       "    <tr>\n",
       "      <th>29</th>\n",
       "      <td>Settings</td>\n",
       "      <td>churned</td>\n",
       "      <td>0.601819</td>\n",
       "    </tr>\n",
       "    <tr>\n",
       "      <th>10</th>\n",
       "      <td>Settings</td>\n",
       "      <td>stayed</td>\n",
       "      <td>0.533242</td>\n",
       "    </tr>\n",
       "    <tr>\n",
       "      <th>34</th>\n",
       "      <td>Help</td>\n",
       "      <td>churned</td>\n",
       "      <td>0.532721</td>\n",
       "    </tr>\n",
       "    <tr>\n",
       "      <th>15</th>\n",
       "      <td>Help</td>\n",
       "      <td>stayed</td>\n",
       "      <td>0.520811</td>\n",
       "    </tr>\n",
       "    <tr>\n",
       "      <th>35</th>\n",
       "      <td>Upgrade</td>\n",
       "      <td>churned</td>\n",
       "      <td>0.249643</td>\n",
       "    </tr>\n",
       "    <tr>\n",
       "      <th>9</th>\n",
       "      <td>About</td>\n",
       "      <td>stayed</td>\n",
       "      <td>0.188178</td>\n",
       "    </tr>\n",
       "    <tr>\n",
       "      <th>16</th>\n",
       "      <td>Upgrade</td>\n",
       "      <td>stayed</td>\n",
       "      <td>0.165888</td>\n",
       "    </tr>\n",
       "    <tr>\n",
       "      <th>26</th>\n",
       "      <td>Save Settings</td>\n",
       "      <td>churned</td>\n",
       "      <td>0.129280</td>\n",
       "    </tr>\n",
       "    <tr>\n",
       "      <th>28</th>\n",
       "      <td>About</td>\n",
       "      <td>churned</td>\n",
       "      <td>0.124822</td>\n",
       "    </tr>\n",
       "    <tr>\n",
       "      <th>27</th>\n",
       "      <td>Cancellation Confirmation</td>\n",
       "      <td>churned</td>\n",
       "      <td>0.115906</td>\n",
       "    </tr>\n",
       "    <tr>\n",
       "      <th>19</th>\n",
       "      <td>Cancel</td>\n",
       "      <td>churned</td>\n",
       "      <td>0.115906</td>\n",
       "    </tr>\n",
       "    <tr>\n",
       "      <th>7</th>\n",
       "      <td>Save Settings</td>\n",
       "      <td>stayed</td>\n",
       "      <td>0.108020</td>\n",
       "    </tr>\n",
       "    <tr>\n",
       "      <th>17</th>\n",
       "      <td>Error</td>\n",
       "      <td>stayed</td>\n",
       "      <td>0.094303</td>\n",
       "    </tr>\n",
       "    <tr>\n",
       "      <th>36</th>\n",
       "      <td>Error</td>\n",
       "      <td>churned</td>\n",
       "      <td>0.071327</td>\n",
       "    </tr>\n",
       "    <tr>\n",
       "      <th>37</th>\n",
       "      <td>Submit Upgrade</td>\n",
       "      <td>churned</td>\n",
       "      <td>0.071327</td>\n",
       "    </tr>\n",
       "    <tr>\n",
       "      <th>18</th>\n",
       "      <td>Submit Upgrade</td>\n",
       "      <td>stayed</td>\n",
       "      <td>0.054439</td>\n",
       "    </tr>\n",
       "    <tr>\n",
       "      <th>1</th>\n",
       "      <td>Submit Downgrade</td>\n",
       "      <td>stayed</td>\n",
       "      <td>0.023147</td>\n",
       "    </tr>\n",
       "    <tr>\n",
       "      <th>20</th>\n",
       "      <td>Submit Downgrade</td>\n",
       "      <td>churned</td>\n",
       "      <td>0.020061</td>\n",
       "    </tr>\n",
       "    <tr>\n",
       "      <th>8</th>\n",
       "      <td>Cancellation Confirmation</td>\n",
       "      <td>stayed</td>\n",
       "      <td>0.000000</td>\n",
       "    </tr>\n",
       "    <tr>\n",
       "      <th>0</th>\n",
       "      <td>Cancel</td>\n",
       "      <td>stayed</td>\n",
       "      <td>0.000000</td>\n",
       "    </tr>\n",
       "  </tbody>\n",
       "</table>\n",
       "</div>"
      ],
      "text/plain": [
       "                         page user_type  percentage\n",
       "13                   NextSong    stayed   82.178405\n",
       "32                   NextSong   churned   81.120720\n",
       "14                  Thumbs Up    stayed    4.583137\n",
       "33                  Thumbs Up   churned    4.143634\n",
       "22                       Home   churned    3.726819\n",
       "3                        Home    stayed    3.604955\n",
       "11            Add to Playlist    stayed    2.352437\n",
       "30            Add to Playlist   churned    2.313659\n",
       "24                Roll Advert   churned    2.155403\n",
       "12                 Add Friend    stayed    1.560718\n",
       "31                 Add Friend   churned    1.417618\n",
       "5                 Roll Advert    stayed    1.271379\n",
       "25                     Logout   churned    1.232614\n",
       "6                      Logout    stayed    1.145784\n",
       "21                Thumbs Down   churned    1.105563\n",
       "2                 Thumbs Down    stayed    0.878735\n",
       "23                  Downgrade   churned    0.751159\n",
       "4                   Downgrade    stayed    0.736422\n",
       "29                   Settings   churned    0.601819\n",
       "10                   Settings    stayed    0.533242\n",
       "34                       Help   churned    0.532721\n",
       "15                       Help    stayed    0.520811\n",
       "35                    Upgrade   churned    0.249643\n",
       "9                       About    stayed    0.188178\n",
       "16                    Upgrade    stayed    0.165888\n",
       "26              Save Settings   churned    0.129280\n",
       "28                      About   churned    0.124822\n",
       "27  Cancellation Confirmation   churned    0.115906\n",
       "19                     Cancel   churned    0.115906\n",
       "7               Save Settings    stayed    0.108020\n",
       "17                      Error    stayed    0.094303\n",
       "36                      Error   churned    0.071327\n",
       "37             Submit Upgrade   churned    0.071327\n",
       "18             Submit Upgrade    stayed    0.054439\n",
       "1            Submit Downgrade    stayed    0.023147\n",
       "20           Submit Downgrade   churned    0.020061\n",
       "8   Cancellation Confirmation    stayed    0.000000\n",
       "0                      Cancel    stayed    0.000000"
      ]
     },
     "execution_count": 26,
     "metadata": {},
     "output_type": "execute_result"
    }
   ],
   "source": [
    "# plotting: page hits for stayed vs churned users\n",
    "pdf_page = df_page.toPandas().melt(\n",
    "    id_vars='page', var_name='user_type', value_vars=['stayed', 'churned'],\n",
    "    value_name='percentage'\n",
    ").sort_values('percentage', ascending=False)\n",
    "pdf_page.head(100)"
   ]
  },
  {
   "cell_type": "code",
   "execution_count": 27,
   "metadata": {},
   "outputs": [
    {
     "data": {
      "image/png": "[encoded data removed]",
      "text/plain": [
       "<Figure size 800x500 with 1 Axes>"
      ]
     },
     "metadata": {},
     "output_type": "display_data"
    }
   ],
   "source": [
    "plt.figure(figsize=(8, 5))\n",
    "sns.barplot(x='percentage', y='page', hue='user_type', data=pdf_page)\n",
    "plt.grid(axis='x', alpha=0.5, zorder=0)\n",
    "plt.title('Page Hits for Stayed vs Churned Users')\n",
    "plt.xlabel('percentage of page hits')\n",
    "plt.tight_layout()\n",
    "plt.legend(title='', loc='lower right')\n",
    "plt.show()"
   ]
  },
  {
   "cell_type": "markdown",
   "metadata": {},
   "source": [
    "`Observation`:\n",
    "- `NextSong` is the page that both stayed and churned access to most frequently.\n",
    "- Users who stayed tend to access to the `Thumbs Up` and `Add friend` pages more often than those who leaved.\n",
    "- In contrast, users who have churned from Sparkify have more clicks on `Roll Advert`, `Logout`, and `Thumbs Down` pages than stayed users."
   ]
  },
  {
   "cell_type": "markdown",
   "metadata": {},
   "source": [
    "### EDA: Songs played per hour"
   ]
  },
  {
   "cell_type": "code",
   "execution_count": 28,
   "metadata": {},
   "outputs": [],
   "source": [
    "# create a new column called 'hour' and 'datetime' to convert the timestamp\n",
    "df = df.withColumn('datetime', sf.to_timestamp(sf.from_unixtime(sf.col('ts')/1000)))\n",
    "df = df.withColumn('hour', sf.hour(sf.col('datetime')))"
   ]
  },
  {
   "cell_type": "code",
   "execution_count": 29,
   "metadata": {},
   "outputs": [],
   "source": [
    "# calculate the number of songs played by hour for the churned and stayed users\n",
    "byHour_churned = df.filter((sf.col('userId').isin(ls_users_churned)) & (sf.col('page')=='NextSong'))\\\n",
    "    .groupBy('hour').agg(\n",
    "        sf.count('page').alias('totalSongsByHour'),\n",
    "        sf.countDistinct('userId').alias('uniqueUsersByHour'),\n",
    "        (sf.count('page')/sf.countDistinct('userId')).alias('avgSongsByHour')\n",
    "    ).orderBy('hour').toPandas()\n",
    "    \n",
    "byHour_stayed = df.filter(~sf.col('userId').isin(ls_users_churned) & (sf.col('page')=='NextSong'))\\\n",
    "    .groupBy('hour').agg(\n",
    "        sf.count('page').alias('totalSongsByHour'),\n",
    "        sf.countDistinct('userId').alias('uniqueUsersByHour'),\n",
    "        (sf.count('page')/sf.countDistinct('userId')).alias('avgSongsByHour')\n",
    "    ).orderBy('hour').toPandas()\n",
    "    \n",
    "pdf = pd.concat([byHour_churned, byHour_stayed], axis=1)"
   ]
  },
  {
   "cell_type": "code",
   "execution_count": 30,
   "metadata": {},
   "outputs": [
    {
     "data": {
      "image/png": "[encoded data removed]",
      "text/plain": [
       "<Figure size 800x500 with 1 Axes>"
      ]
     },
     "metadata": {},
     "output_type": "display_data"
    }
   ],
   "source": [
    "# plotting: number of songs played by hour\n",
    "byHour_churned.join(byHour_stayed, on='hour', how='outer', lsuffix='_churned', rsuffix='_stayed')\\\n",
    "    .plot(x='hour', y=['avgSongsByHour_churned', 'avgSongsByHour_stayed'],\n",
    "          title='Average Songs Played by Hour', ylabel='number of songs', rot=0,\n",
    "          label=['churned users', 'stayed users'], kind='bar', figsize=(8, 5))\n",
    "plt.grid(axis='y', alpha=0.5, zorder=0)\n",
    "plt.show()"
   ]
  },
  {
   "cell_type": "markdown",
   "metadata": {},
   "source": [
    "`Observation`:\n",
    "- Evenings and midnights are high-traffic hours for both churned and stayed users.\n",
    "- On average, users who stay play more songs in an hour than users who leave."
   ]
  },
  {
   "cell_type": "markdown",
   "metadata": {},
   "source": [
    "### EDA: Songs played per session"
   ]
  },
  {
   "cell_type": "code",
   "execution_count": 31,
   "metadata": {},
   "outputs": [
    {
     "name": "stdout",
     "output_type": "stream",
     "text": [
      "+-----+\n",
      "|level|\n",
      "+-----+\n",
      "| free|\n",
      "| paid|\n",
      "+-----+\n",
      "\n"
     ]
    }
   ],
   "source": [
    "df.select(['level']).distinct().show()"
   ]
  },
  {
   "cell_type": "code",
   "execution_count": 32,
   "metadata": {},
   "outputs": [],
   "source": [
    "songsBySession = df.select(['userId', 'page', 'sessionId', 'churn']).where(sf.col('page')=='NextSong')\\\n",
    "    .groupBy('userId', 'sessionId', 'churn').count().toPandas()"
   ]
  },
  {
   "cell_type": "code",
   "execution_count": 33,
   "metadata": {},
   "outputs": [
    {
     "data": {
      "text/html": [
       "<div>\n",
       "<style scoped>\n",
       "    .dataframe tbody tr th:only-of-type {\n",
       "        vertical-align: middle;\n",
       "    }\n",
       "\n",
       "    .dataframe tbody tr th {\n",
       "        vertical-align: top;\n",
       "    }\n",
       "\n",
       "    .dataframe thead th {\n",
       "        text-align: right;\n",
       "    }\n",
       "</style>\n",
       "<table border=\"1\" class=\"dataframe\">\n",
       "  <thead>\n",
       "    <tr style=\"text-align: right;\">\n",
       "      <th></th>\n",
       "      <th>userId</th>\n",
       "      <th>sessionId</th>\n",
       "      <th>churn</th>\n",
       "      <th>count</th>\n",
       "    </tr>\n",
       "  </thead>\n",
       "  <tbody>\n",
       "    <tr>\n",
       "      <th>0</th>\n",
       "      <td>100</td>\n",
       "      <td>2428</td>\n",
       "      <td>0</td>\n",
       "      <td>81</td>\n",
       "    </tr>\n",
       "    <tr>\n",
       "      <th>1</th>\n",
       "      <td>100</td>\n",
       "      <td>2304</td>\n",
       "      <td>0</td>\n",
       "      <td>156</td>\n",
       "    </tr>\n",
       "    <tr>\n",
       "      <th>2</th>\n",
       "      <td>100</td>\n",
       "      <td>2240</td>\n",
       "      <td>0</td>\n",
       "      <td>19</td>\n",
       "    </tr>\n",
       "    <tr>\n",
       "      <th>3</th>\n",
       "      <td>100</td>\n",
       "      <td>2135</td>\n",
       "      <td>0</td>\n",
       "      <td>28</td>\n",
       "    </tr>\n",
       "    <tr>\n",
       "      <th>4</th>\n",
       "      <td>100</td>\n",
       "      <td>2075</td>\n",
       "      <td>0</td>\n",
       "      <td>200</td>\n",
       "    </tr>\n",
       "    <tr>\n",
       "      <th>...</th>\n",
       "      <td>...</td>\n",
       "      <td>...</td>\n",
       "      <td>...</td>\n",
       "      <td>...</td>\n",
       "    </tr>\n",
       "    <tr>\n",
       "      <th>3066</th>\n",
       "      <td>97</td>\n",
       "      <td>698</td>\n",
       "      <td>0</td>\n",
       "      <td>8</td>\n",
       "    </tr>\n",
       "    <tr>\n",
       "      <th>3067</th>\n",
       "      <td>97</td>\n",
       "      <td>679</td>\n",
       "      <td>0</td>\n",
       "      <td>2</td>\n",
       "    </tr>\n",
       "    <tr>\n",
       "      <th>3068</th>\n",
       "      <td>97</td>\n",
       "      <td>550</td>\n",
       "      <td>0</td>\n",
       "      <td>47</td>\n",
       "    </tr>\n",
       "    <tr>\n",
       "      <th>3069</th>\n",
       "      <td>97</td>\n",
       "      <td>96</td>\n",
       "      <td>0</td>\n",
       "      <td>12</td>\n",
       "    </tr>\n",
       "    <tr>\n",
       "      <th>3070</th>\n",
       "      <td>6</td>\n",
       "      <td>2268</td>\n",
       "      <td>0</td>\n",
       "      <td>49</td>\n",
       "    </tr>\n",
       "  </tbody>\n",
       "</table>\n",
       "<p>3071 rows × 4 columns</p>\n",
       "</div>"
      ],
      "text/plain": [
       "     userId  sessionId  churn  count\n",
       "0       100       2428      0     81\n",
       "1       100       2304      0    156\n",
       "2       100       2240      0     19\n",
       "3       100       2135      0     28\n",
       "4       100       2075      0    200\n",
       "...     ...        ...    ...    ...\n",
       "3066     97        698      0      8\n",
       "3067     97        679      0      2\n",
       "3068     97        550      0     47\n",
       "3069     97         96      0     12\n",
       "3070      6       2268      0     49\n",
       "\n",
       "[3071 rows x 4 columns]"
      ]
     },
     "execution_count": 33,
     "metadata": {},
     "output_type": "execute_result"
    }
   ],
   "source": [
    "songsBySession"
   ]
  },
  {
   "cell_type": "code",
   "execution_count": 34,
   "metadata": {},
   "outputs": [
    {
     "data": {
      "image/png": "[encoded data removed]",
      "text/plain": [
       "<Figure size 640x480 with 1 Axes>"
      ]
     },
     "metadata": {},
     "output_type": "display_data"
    }
   ],
   "source": [
    "# plt.figure(figsize=(8, 5))\n",
    "sns.histplot(x='count', data=songsBySession, hue='churn', multiple = \"dodge\", stat='proportion')\n",
    "plt.grid(True)\n",
    "plt.legend({'churned users': 1, 'stayed users': 0})\n",
    "plt.xlabel('number of songs')\n",
    "plt.title('Number of Songs Played by Session')\n",
    "plt.ylabel('proportion of users')\n",
    "plt.show()"
   ]
  },
  {
   "cell_type": "code",
   "execution_count": 35,
   "metadata": {},
   "outputs": [
    {
     "data": {
      "image/png": "[encoded data removed]",
      "text/plain": [
       "<Figure size 640x480 with 1 Axes>"
      ]
     },
     "metadata": {},
     "output_type": "display_data"
    }
   ],
   "source": [
    "df.where(sf.col('page')=='NextSong')\\\n",
    "    .groupBy('userId', 'sessionId', 'churn').count()\\\n",
    "    .groupBy('churn').agg(sf.avg('count').alias('avgSongsPerSession'))\\\n",
    "    .toPandas().plot(kind='bar', x='churn', y='avgSongsPerSession', rot=0,\n",
    "                     legend=False, xlabel='', ylabel='number of songs',\n",
    "                     title='Average Number of Songs Played per Session')\n",
    "plt.grid(axis='y', alpha=0.5)\n",
    "plt.xticks([0, 1], ['stayed users', 'churned users'])\n",
    "plt.tight_layout()\n",
    "plt.show()"
   ]
  },
  {
   "cell_type": "markdown",
   "metadata": {},
   "source": [
    "`Observation`: Users who stayed play more songs in a session than those who leaved. "
   ]
  },
  {
   "cell_type": "markdown",
   "metadata": {},
   "source": [
    "### EDA: Days since registration"
   ]
  },
  {
   "cell_type": "code",
   "execution_count": 36,
   "metadata": {},
   "outputs": [
    {
     "name": "stdout",
     "output_type": "stream",
     "text": [
      "+------+-------------+-------------+-----+\n",
      "|userId| registration|           ts|churn|\n",
      "+------+-------------+-------------+-----+\n",
      "|    10|1538159495000|1542631788000|    0|\n",
      "|   100|1537982255000|1543587349000|    0|\n",
      "|100001|1534627466000|1538498205000|    1|\n",
      "|100002|1529934689000|1543799476000|    0|\n",
      "|100003|1537309344000|1539274781000|    1|\n",
      "|100004|1528560242000|1543459065000|    0|\n",
      "|100005|1532610926000|1539971825000|    1|\n",
      "|100006|1537964483000|1538753070000|    1|\n",
      "|100007|1533522419000|1543491909000|    1|\n",
      "|100008|1537440271000|1543335219000|    0|\n",
      "|100009|1537376437000|1540611104000|    1|\n",
      "|100010|1538016340000|1542823952000|    0|\n",
      "|100011|1537970819000|1538417085000|    1|\n",
      "|100012|1537381154000|1541100900000|    1|\n",
      "|100013|1537367773000|1541184816000|    1|\n",
      "|100014|1535389443000|1542740649000|    1|\n",
      "|100015|1537208989000|1543073753000|    1|\n",
      "|100016|1536854322000|1543335647000|    0|\n",
      "|100017|1533247234000|1540062847000|    1|\n",
      "|100018|1533812833000|1543378360000|    0|\n",
      "+------+-------------+-------------+-----+\n",
      "only showing top 20 rows\n",
      "\n"
     ]
    }
   ],
   "source": [
    "# pull out the most recent event for each user\n",
    "df_days = df.select(['userId', 'registration', 'ts', 'churn']).dropDuplicates().sort('userId')\n",
    "w = Window.partitionBy(\"userId\").orderBy(sf.desc(\"ts\"))\n",
    "df_days = df_days.withColumn(\"Rank\", sf.dense_rank().over(w)) # create Rank col with w/ the most recent event ranked #1\n",
    "df_days = df_days.filter(df_days.Rank == 1).drop(\"Rank\")  # filter out all but the most recent event\n",
    "df_days.show()"
   ]
  },
  {
   "cell_type": "code",
   "execution_count": 37,
   "metadata": {},
   "outputs": [
    {
     "name": "stdout",
     "output_type": "stream",
     "text": [
      "+------+-------------+-------------+-----+------------------+\n",
      "|userId| registration|           ts|churn|        delta_days|\n",
      "+------+-------------+-------------+-----+------------------+\n",
      "|    10|1538159495000|1542631788000|    0| 51.76265046296297|\n",
      "|   100|1537982255000|1543587349000|    0| 64.87377314814815|\n",
      "|100001|1534627466000|1538498205000|    1| 44.80021990740741|\n",
      "|100002|1529934689000|1543799476000|    0|160.47207175925925|\n",
      "|100003|1537309344000|1539274781000|    1|22.748113425925926|\n",
      "|100004|1528560242000|1543459065000|    0|172.44008101851853|\n",
      "|100005|1532610926000|1539971825000|    1| 85.19559027777778|\n",
      "|100006|1537964483000|1538753070000|    1| 9.127164351851851|\n",
      "|100007|1533522419000|1543491909000|    1|115.38761574074074|\n",
      "|100008|1537440271000|1543335219000|    0| 68.22856481481482|\n",
      "|100009|1537376437000|1540611104000|    1| 37.43827546296296|\n",
      "|100010|1538016340000|1542823952000|    0| 55.64365740740741|\n",
      "|100011|1537970819000|1538417085000|    1| 5.165115740740741|\n",
      "|100012|1537381154000|1541100900000|    1| 43.05261574074074|\n",
      "|100013|1537367773000|1541184816000|    1| 44.17873842592593|\n",
      "|100014|1535389443000|1542740649000|    1| 85.08340277777778|\n",
      "|100015|1537208989000|1543073753000|    1| 67.87921296296297|\n",
      "|100016|1536854322000|1543335647000|    0| 75.01533564814815|\n",
      "|100017|1533247234000|1540062847000|    1| 78.88440972222222|\n",
      "|100018|1533812833000|1543378360000|    0|110.71211805555555|\n",
      "+------+-------------+-------------+-----+------------------+\n",
      "only showing top 20 rows\n",
      "\n"
     ]
    }
   ],
   "source": [
    "# calculate the number of days since registration\n",
    "df_days = df_days.withColumn(\"delta_days\", (df_days['ts']) - (df_days['registration']))\n",
    "df_days = df_days.withColumn(\"delta_days\", sf.col(\"delta_days\") / (1000 * 60 * 60 * 24))\n",
    "df_days.show()"
   ]
  },
  {
   "cell_type": "code",
   "execution_count": 38,
   "metadata": {},
   "outputs": [
    {
     "data": {
      "image/png": "[encoded data removed]",
      "text/plain": [
       "<Figure size 640x480 with 1 Axes>"
      ]
     },
     "metadata": {},
     "output_type": "display_data"
    }
   ],
   "source": [
    "# plotting: number of days since registration\n",
    "sns.histplot(data=df_days.toPandas(), x='delta_days', hue='churn', bins=75)\n",
    "plt.title('Number of Days Since Registration')\n",
    "plt.xlabel('number of days since registration')\n",
    "plt.ylabel('number of users')\n",
    "plt.grid(True, alpha=0.5)\n",
    "plt.legend({'churned users': 1, 'stayed users': 0})\n",
    "plt.show()"
   ]
  },
  {
   "cell_type": "markdown",
   "metadata": {},
   "source": [
    "`Observation`:\n",
    "- Users who stay for a longer time are less likely to leave Sparkify.\n",
    "- Recently registered users are more likely to churn.\n"
   ]
  },
  {
   "cell_type": "markdown",
   "metadata": {},
   "source": [
    "# Feature Engineering\n",
    "*Once you've familiarized yourself with the data, build out the features you find promising to train your model on. To work with the full dataset, you can follow the following steps.*\n",
    "- *Write a script to extract the necessary features from the smaller subset of data*\n",
    "- *Ensure that your script is scalable, using the best practices discussed in Lesson 3*\n",
    "- *Try your script on the full data set, debugging your script if necessary*\n",
    "\n",
    "*If you are working in the classroom workspace, you can just extract features based on the small subset of data contained here. Be sure to transfer over this work to the larger dataset when you work on your Spark cluster.*"
   ]
  },
  {
   "cell_type": "markdown",
   "metadata": {},
   "source": [
    "Based on observations from the EDA in the previous section, I select the following features that seem to be most promissing for building a predictive model:\n",
    "- gender (male or female)\n",
    "- subscription level (paid or free users)\n",
    "- number of thumbs-up actions\n",
    "- number of roll-add actions\n",
    "- number of logout actions\n",
    "- number of thumbs-down actions\n",
    "- number of add-friend actions\n",
    "- number of songs played per hour\n",
    "- number of songs played per session\n",
    "- number of days since registration\n",
    "\n",
    "The target is to create a dataframe where each row presents information used for prediction for each user, together with a label denoting churned/stayed users. Later on, the feature matrix will be pre-processed with vectorization and standardization before being fed into the predictive model."
   ]
  },
  {
   "cell_type": "markdown",
   "metadata": {},
   "source": [
    "## FE: Gender\n",
    "We use binary encoding to encode gender information, 1 for male and 0 for female users."
   ]
  },
  {
   "cell_type": "code",
   "execution_count": 39,
   "metadata": {},
   "outputs": [
    {
     "name": "stdout",
     "output_type": "stream",
     "text": [
      "+------+------+\n",
      "|userId|gender|\n",
      "+------+------+\n",
      "|    44|     0|\n",
      "|    46|     0|\n",
      "|    41|     0|\n",
      "|    39|     0|\n",
      "|    40|     0|\n",
      "+------+------+\n",
      "only showing top 5 rows\n",
      "\n"
     ]
    }
   ],
   "source": [
    "fe_gender = df.select(['userId','gender']).dropDuplicates()\\\n",
    "    .withColumn('gender', sf.when(sf.col('gender') == 'M', 1).otherwise(0))\n",
    "fe_gender.show(5)"
   ]
  },
  {
   "cell_type": "code",
   "execution_count": 40,
   "metadata": {},
   "outputs": [
    {
     "data": {
      "text/plain": [
       "225"
      ]
     },
     "execution_count": 40,
     "metadata": {},
     "output_type": "execute_result"
    }
   ],
   "source": [
    "fe_gender.count()"
   ]
  },
  {
   "cell_type": "markdown",
   "metadata": {},
   "source": [
    "## FE: Subscription level\n",
    "Users can change from free to paid subscriptions and vice versa. Therefore, we select only the most recent subscription status for each user. We then encode 1 for paid and 0 for free users."
   ]
  },
  {
   "cell_type": "code",
   "execution_count": 41,
   "metadata": {},
   "outputs": [
    {
     "name": "stdout",
     "output_type": "stream",
     "text": [
      "+------+-----+\n",
      "|userId|level|\n",
      "+------+-----+\n",
      "|    10| paid|\n",
      "|   100| paid|\n",
      "|100001| free|\n",
      "|100002| paid|\n",
      "|100003| free|\n",
      "+------+-----+\n",
      "only showing top 5 rows\n",
      "\n"
     ]
    }
   ],
   "source": [
    "# extract the most recent subscription level for each user\n",
    "df_level = df.select(['userId', 'level', 'ts']).dropDuplicates().sort('userId')\n",
    "w = Window.partitionBy(\"userId\").orderBy(sf.desc(\"ts\"))\n",
    "df_level = df_level.withColumn(\"Rank\", sf.dense_rank().over(w))\n",
    "df_level = df_level.filter(df_level.Rank == 1).drop(\"Rank\").drop('ts')\n",
    "df_level.show(5)"
   ]
  },
  {
   "cell_type": "code",
   "execution_count": 42,
   "metadata": {},
   "outputs": [
    {
     "name": "stdout",
     "output_type": "stream",
     "text": [
      "+------+------------+\n",
      "|userId|subscription|\n",
      "+------+------------+\n",
      "|    10|           1|\n",
      "|   100|           1|\n",
      "|100001|           0|\n",
      "|100002|           1|\n",
      "|100003|           0|\n",
      "+------+------------+\n",
      "only showing top 5 rows\n",
      "\n"
     ]
    }
   ],
   "source": [
    "# encode the subscription level: 1=paid, 0=free\n",
    "checkSubLevel = sf.udf(lambda x: 1 if x == 'paid' else 0, 'integer')\n",
    "df_level = df_level.withColumn('subscription', checkSubLevel('level'))\n",
    "fe_level = df_level.drop(\"level\")\n",
    "fe_level.show(5)"
   ]
  },
  {
   "cell_type": "code",
   "execution_count": 43,
   "metadata": {},
   "outputs": [
    {
     "data": {
      "text/plain": [
       "225"
      ]
     },
     "execution_count": 43,
     "metadata": {},
     "output_type": "execute_result"
    }
   ],
   "source": [
    "fe_level.count()"
   ]
  },
  {
   "cell_type": "markdown",
   "metadata": {},
   "source": [
    "## FE: Number of thumbs-up actions\n",
    "We calculate the number of likes for each user to be used as a predictive feature. "
   ]
  },
  {
   "cell_type": "code",
   "execution_count": 44,
   "metadata": {},
   "outputs": [
    {
     "name": "stdout",
     "output_type": "stream",
     "text": [
      "+------+--------+\n",
      "|userId|thumbsUp|\n",
      "+------+--------+\n",
      "|    51|     100|\n",
      "|   124|     171|\n",
      "|    54|     163|\n",
      "|    15|      81|\n",
      "|   132|      96|\n",
      "+------+--------+\n",
      "only showing top 5 rows\n",
      "\n"
     ]
    }
   ],
   "source": [
    "# calculate the number of likes for each user\n",
    "fe_thumbsUp = df.select(['userId', 'page']).where(sf.col('page')=='Thumbs Up')\\\n",
    "    .groupBy('userId').count().withColumnRenamed('count', 'thumbsUp')\n",
    "fe_thumbsUp.show(5)"
   ]
  },
  {
   "cell_type": "code",
   "execution_count": 45,
   "metadata": {},
   "outputs": [
    {
     "data": {
      "text/plain": [
       "220"
      ]
     },
     "execution_count": 45,
     "metadata": {},
     "output_type": "execute_result"
    }
   ],
   "source": [
    "fe_thumbsUp.count()"
   ]
  },
  {
   "cell_type": "markdown",
   "metadata": {},
   "source": [
    "## FE: Number of roll-ad actions\n",
    "Similarly, the number of roll-ad actions is utilized as a predictive feature."
   ]
  },
  {
   "cell_type": "code",
   "execution_count": 46,
   "metadata": {},
   "outputs": [
    {
     "name": "stdout",
     "output_type": "stream",
     "text": [
      "+------+----------+\n",
      "|userId|rollAdvert|\n",
      "+------+----------+\n",
      "|     7|        16|\n",
      "|   124|         4|\n",
      "|    54|        47|\n",
      "|   101|         8|\n",
      "|   138|        17|\n",
      "+------+----------+\n",
      "only showing top 5 rows\n",
      "\n"
     ]
    }
   ],
   "source": [
    "# calculate the number of roll-ad actions for each user\n",
    "fe_rollAd = df.select(['userId', 'page']).where(sf.col('page')=='Roll Advert')\\\n",
    "    .groupBy('userId').count().withColumnRenamed('count', 'rollAdvert')\n",
    "fe_rollAd.show(5)"
   ]
  },
  {
   "cell_type": "code",
   "execution_count": 47,
   "metadata": {},
   "outputs": [
    {
     "data": {
      "text/plain": [
       "207"
      ]
     },
     "execution_count": 47,
     "metadata": {},
     "output_type": "execute_result"
    }
   ],
   "source": [
    "fe_rollAd.count()"
   ]
  },
  {
   "cell_type": "markdown",
   "metadata": {},
   "source": [
    "## FE: Number of logout actions"
   ]
  },
  {
   "cell_type": "code",
   "execution_count": 48,
   "metadata": {},
   "outputs": [
    {
     "name": "stdout",
     "output_type": "stream",
     "text": [
      "+------+------+\n",
      "|userId|logOut|\n",
      "+------+------+\n",
      "|    51|    24|\n",
      "|   124|    59|\n",
      "|     7|     3|\n",
      "|    15|    27|\n",
      "|    54|    36|\n",
      "+------+------+\n",
      "only showing top 5 rows\n",
      "\n"
     ]
    }
   ],
   "source": [
    "# calculate the number of logouts for each user\n",
    "fe_logOut = df.select(['userId', 'page']).where(sf.col('page')=='Logout')\\\n",
    "    .groupBy('userId').count().withColumnRenamed('count', 'logOut')\n",
    "fe_logOut.show(5)"
   ]
  },
  {
   "cell_type": "code",
   "execution_count": 49,
   "metadata": {},
   "outputs": [
    {
     "data": {
      "text/plain": [
       "213"
      ]
     },
     "execution_count": 49,
     "metadata": {},
     "output_type": "execute_result"
    }
   ],
   "source": [
    "fe_logOut.count()"
   ]
  },
  {
   "cell_type": "markdown",
   "metadata": {},
   "source": [
    "## FE: Number of thumbs-down actions"
   ]
  },
  {
   "cell_type": "code",
   "execution_count": 50,
   "metadata": {},
   "outputs": [
    {
     "name": "stdout",
     "output_type": "stream",
     "text": [
      "+------+----------+\n",
      "|userId|thumbsDown|\n",
      "+------+----------+\n",
      "|    51|        21|\n",
      "|   124|        41|\n",
      "|     7|         1|\n",
      "|    15|        14|\n",
      "|    54|        29|\n",
      "+------+----------+\n",
      "only showing top 5 rows\n",
      "\n"
     ]
    }
   ],
   "source": [
    "# calculate the number of dislikes for each user\n",
    "fe_thumbsDown = df.select(['userId', 'page']).where(sf.col('page')=='Thumbs Down')\\\n",
    "    .groupBy('userId').count().withColumnRenamed('count', 'thumbsDown')\n",
    "fe_thumbsDown.show(5)"
   ]
  },
  {
   "cell_type": "code",
   "execution_count": 51,
   "metadata": {},
   "outputs": [
    {
     "data": {
      "text/plain": [
       "203"
      ]
     },
     "execution_count": 51,
     "metadata": {},
     "output_type": "execute_result"
    }
   ],
   "source": [
    "fe_thumbsDown.count()"
   ]
  },
  {
   "cell_type": "markdown",
   "metadata": {},
   "source": [
    "## FE: Number of add-friend actions"
   ]
  },
  {
   "cell_type": "code",
   "execution_count": 52,
   "metadata": {},
   "outputs": [
    {
     "name": "stdout",
     "output_type": "stream",
     "text": [
      "+------+---------+\n",
      "|userId|addFriend|\n",
      "+------+---------+\n",
      "|    51|       28|\n",
      "|   124|       74|\n",
      "|     7|        1|\n",
      "|    54|       33|\n",
      "|    15|       31|\n",
      "+------+---------+\n",
      "only showing top 5 rows\n",
      "\n"
     ]
    }
   ],
   "source": [
    "# calculate the number of friends added for each user\n",
    "fe_addFriend = df.select(['userId', 'page']).where(sf.col('page')=='Add Friend')\\\n",
    "    .groupBy('userId').count().withColumnRenamed('count', 'addFriend')\n",
    "fe_addFriend.show(5)"
   ]
  },
  {
   "cell_type": "code",
   "execution_count": 53,
   "metadata": {},
   "outputs": [
    {
     "data": {
      "text/plain": [
       "206"
      ]
     },
     "execution_count": 53,
     "metadata": {},
     "output_type": "execute_result"
    }
   ],
   "source": [
    "fe_addFriend.count()"
   ]
  },
  {
   "cell_type": "markdown",
   "metadata": {},
   "source": [
    "## FE: Songs played per hour"
   ]
  },
  {
   "cell_type": "code",
   "execution_count": 54,
   "metadata": {},
   "outputs": [
    {
     "name": "stdout",
     "output_type": "stream",
     "text": [
      "+------+------------------+\n",
      "|userId|       songsByHour|\n",
      "+------+------------------+\n",
      "|100010|16.176470588235293|\n",
      "|200002| 20.36842105263158|\n",
      "|   125|               8.0|\n",
      "|   124|169.95833333333334|\n",
      "|    51| 87.95833333333333|\n",
      "+------+------------------+\n",
      "only showing top 5 rows\n",
      "\n"
     ]
    }
   ],
   "source": [
    "# calculate the number of songs played per hour for each user\n",
    "fe_songsByHour = df.filter(sf.col('page')=='NextSong')\\\n",
    "    .groupBy('userId', 'hour').count()\\\n",
    "    .groupBy('userId').agg(sf.avg('count').alias('songsByHour'))\n",
    "fe_songsByHour.show(5)"
   ]
  },
  {
   "cell_type": "code",
   "execution_count": 55,
   "metadata": {},
   "outputs": [
    {
     "data": {
      "text/plain": [
       "225"
      ]
     },
     "execution_count": 55,
     "metadata": {},
     "output_type": "execute_result"
    }
   ],
   "source": [
    "fe_songsByHour.count()"
   ]
  },
  {
   "cell_type": "markdown",
   "metadata": {},
   "source": [
    "## FE: Songs played per session"
   ]
  },
  {
   "cell_type": "code",
   "execution_count": 56,
   "metadata": {},
   "outputs": [
    {
     "name": "stdout",
     "output_type": "stream",
     "text": [
      "+------+------------------+\n",
      "|userId|    songsBySession|\n",
      "+------+------------------+\n",
      "|100010|39.285714285714285|\n",
      "|200002|              64.5|\n",
      "|   125|               8.0|\n",
      "|   124|145.67857142857142|\n",
      "|    51|             211.1|\n",
      "+------+------------------+\n",
      "only showing top 5 rows\n",
      "\n"
     ]
    }
   ],
   "source": [
    "# calculate the number of songs played per session for each user\n",
    "fe_songsBySession = df.filter(sf.col('page')=='NextSong')\\\n",
    "    .groupBy('userId', 'sessionId').count()\\\n",
    "    .groupBy('userId').agg(sf.avg('count').alias('songsBySession'))\n",
    "fe_songsBySession.show(5)"
   ]
  },
  {
   "cell_type": "code",
   "execution_count": 57,
   "metadata": {},
   "outputs": [
    {
     "data": {
      "text/plain": [
       "225"
      ]
     },
     "execution_count": 57,
     "metadata": {},
     "output_type": "execute_result"
    }
   ],
   "source": [
    "fe_songsBySession.count()"
   ]
  },
  {
   "cell_type": "markdown",
   "metadata": {},
   "source": [
    "## FE: Days since registration"
   ]
  },
  {
   "cell_type": "code",
   "execution_count": 58,
   "metadata": {},
   "outputs": [
    {
     "name": "stdout",
     "output_type": "stream",
     "text": [
      "+------+------------------+\n",
      "|userId|              days|\n",
      "+------+------------------+\n",
      "|    10| 51.76265046296297|\n",
      "|   100| 64.87377314814815|\n",
      "|100001| 44.80021990740741|\n",
      "|100002|160.47207175925925|\n",
      "|100003|22.748113425925926|\n",
      "+------+------------------+\n",
      "only showing top 5 rows\n",
      "\n"
     ]
    }
   ],
   "source": [
    "# calculate the number of days since registration for each user\n",
    "fe_days = df_days.select(['userId', 'delta_days']).withColumnRenamed('delta_days', 'days')\n",
    "fe_days.show(5)"
   ]
  },
  {
   "cell_type": "code",
   "execution_count": 59,
   "metadata": {},
   "outputs": [
    {
     "data": {
      "text/plain": [
       "225"
      ]
     },
     "execution_count": 59,
     "metadata": {},
     "output_type": "execute_result"
    }
   ],
   "source": [
    "fe_days.count()"
   ]
  },
  {
   "cell_type": "markdown",
   "metadata": {},
   "source": [
    "## Data Labeling & Feature \n",
    "We encode 1 for users who left and 0 for users who stayed. "
   ]
  },
  {
   "cell_type": "code",
   "execution_count": 60,
   "metadata": {},
   "outputs": [
    {
     "name": "stdout",
     "output_type": "stream",
     "text": [
      "+------+-----+\n",
      "|userId|label|\n",
      "+------+-----+\n",
      "|    10|    0|\n",
      "|   100|    0|\n",
      "|100001|    1|\n",
      "|100002|    0|\n",
      "|100003|    1|\n",
      "+------+-----+\n",
      "only showing top 5 rows\n",
      "\n"
     ]
    }
   ],
   "source": [
    "# labeling: 1 = churned users, 0 = stayed users\n",
    "label = df.select(['userId', 'churn']).dropDuplicates().withColumnRenamed('churn', 'label')\n",
    "label.show(5)"
   ]
  },
  {
   "cell_type": "code",
   "execution_count": 61,
   "metadata": {},
   "outputs": [
    {
     "data": {
      "text/plain": [
       "225"
      ]
     },
     "execution_count": 61,
     "metadata": {},
     "output_type": "execute_result"
    }
   ],
   "source": [
    "label.count()"
   ]
  },
  {
   "cell_type": "code",
   "execution_count": 62,
   "metadata": {},
   "outputs": [
    {
     "name": "stdout",
     "output_type": "stream",
     "text": [
      "+------+------+------------+--------+----------+------+----------+---------+------------------+------------------+------------------+\n",
      "|userId|gender|subscription|thumbsUp|rollAdvert|logOut|thumbsDown|addFriend|       songsByHour|    songsBySession|              days|\n",
      "+------+------+------------+--------+----------+------+----------+---------+------------------+------------------+------------------+\n",
      "|    10|     1|           1|      37|         1|    11|         4|       12|28.041666666666668|112.16666666666667| 51.76265046296297|\n",
      "|   100|     1|           1|     148|        25|    35|        27|       49|            111.75| 78.88235294117646| 64.87377314814815|\n",
      "|100001|     0|           0|       8|        14|     7|         2|        2|11.083333333333334|             33.25| 44.80021990740741|\n",
      "|100002|     0|           1|       5|         3|     1|         0|        1|              15.0|             48.75|160.47207175925925|\n",
      "|100003|     0|           0|       3|         9|     3|         0|        0|             12.75|              25.5|22.748113425925926|\n",
      "+------+------+------------+--------+----------+------+----------+---------+------------------+------------------+------------------+\n",
      "only showing top 5 rows\n",
      "\n"
     ]
    }
   ],
   "source": [
    "# join all features into a single dataframe\n",
    "fe_matrix = fe_gender.join(fe_level, on='userId', how='outer')\\\n",
    "    .join(fe_thumbsUp, on='userId', how='outer')\\\n",
    "    .join(fe_rollAd, on='userId', how='outer')\\\n",
    "    .join(fe_logOut, on='userId', how='outer')\\\n",
    "    .join(fe_thumbsDown, on='userId', how='outer')\\\n",
    "    .join(fe_addFriend, on='userId', how='outer')\\\n",
    "    .join(fe_songsByHour, on='userId', how='outer')\\\n",
    "    .join(fe_songsBySession, on='userId', how='outer')\\\n",
    "    .join(fe_days, on='userId', how='outer')\\\n",
    "    .na.fill(0)\n",
    "fe_matrix.show(5)"
   ]
  },
  {
   "cell_type": "code",
   "execution_count": 63,
   "metadata": {},
   "outputs": [
    {
     "name": "stdout",
     "output_type": "stream",
     "text": [
      "+------+------------+--------+----------+------+----------+---------+------------------+------------------+------------------+-----+\n",
      "|gender|subscription|thumbsUp|rollAdvert|logOut|thumbsDown|addFriend|       songsByHour|    songsBySession|              days|label|\n",
      "+------+------------+--------+----------+------+----------+---------+------------------+------------------+------------------+-----+\n",
      "|     1|           1|      37|         1|    11|         4|       12|28.041666666666668|112.16666666666667| 51.76265046296297|    0|\n",
      "|     1|           1|     148|        25|    35|        27|       49|            111.75| 78.88235294117646| 64.87377314814815|    0|\n",
      "|     0|           0|       8|        14|     7|         2|        2|11.083333333333334|             33.25| 44.80021990740741|    1|\n",
      "|     0|           1|       5|         3|     1|         0|        1|              15.0|             48.75|160.47207175925925|    0|\n",
      "|     0|           0|       3|         9|     3|         0|        0|             12.75|              25.5|22.748113425925926|    1|\n",
      "+------+------------+--------+----------+------+----------+---------+------------------+------------------+------------------+-----+\n",
      "only showing top 5 rows\n",
      "\n"
     ]
    }
   ],
   "source": [
    "# add the label column to the feature matrix\n",
    "df_features = fe_matrix.join(label, on='userId', how='outer').drop('userId')\n",
    "df_features.show(5)"
   ]
  },
  {
   "cell_type": "code",
   "execution_count": 64,
   "metadata": {},
   "outputs": [
    {
     "name": "stdout",
     "output_type": "stream",
     "text": [
      "+-------+-------------------+------------------+------------------+------------------+------------------+------------------+-----------------+------------------+-----------------+-------------------+------------------+\n",
      "|summary|             gender|      subscription|          thumbsUp|        rollAdvert|            logOut|        thumbsDown|        addFriend|       songsByHour|   songsBySession|               days|             label|\n",
      "+-------+-------------------+------------------+------------------+------------------+------------------+------------------+-----------------+------------------+-----------------+-------------------+------------------+\n",
      "|  count|                225|               225|               225|               225|               225|               225|              225|               225|              225|                225|               225|\n",
      "|   mean| 0.5377777777777778|0.6444444444444445|55.782222222222224|             17.48|14.337777777777777|11.315555555555555|19.00888888888889|45.086390772141286|70.78971233958936|   79.8456834876543|0.2311111111111111|\n",
      "| stddev|0.49968243883744773| 0.479748611419283| 65.47792460907041|21.550207158434198|15.346347996360466|  13.0774812511055|20.58171672849628| 44.10112462484018|42.61536975438168|  37.66147001861254|0.4224832108996326|\n",
      "|    min|                  0|                 0|                 0|                 0|                 0|                 0|                0|               3.0|              3.0|0.31372685185185184|                 0|\n",
      "|    max|                  1|                 1|               437|               128|               124|                75|              143| 333.4166666666667|286.6666666666667|  256.3776736111111|                 1|\n",
      "+-------+-------------------+------------------+------------------+------------------+------------------+------------------+-----------------+------------------+-----------------+-------------------+------------------+\n",
      "\n"
     ]
    }
   ],
   "source": [
    "df_features.describe().show(5)"
   ]
  },
  {
   "cell_type": "code",
   "execution_count": 65,
   "metadata": {},
   "outputs": [
    {
     "name": "stdout",
     "output_type": "stream",
     "text": [
      "root\n",
      " |-- gender: integer (nullable = true)\n",
      " |-- subscription: integer (nullable = true)\n",
      " |-- thumbsUp: long (nullable = true)\n",
      " |-- rollAdvert: long (nullable = true)\n",
      " |-- logOut: long (nullable = true)\n",
      " |-- thumbsDown: long (nullable = true)\n",
      " |-- addFriend: long (nullable = true)\n",
      " |-- songsByHour: double (nullable = true)\n",
      " |-- songsBySession: double (nullable = true)\n",
      " |-- days: double (nullable = true)\n",
      " |-- label: long (nullable = true)\n",
      "\n"
     ]
    }
   ],
   "source": [
    "df_features.printSchema()"
   ]
  },
  {
   "cell_type": "code",
   "execution_count": 66,
   "metadata": {},
   "outputs": [
    {
     "name": "stdout",
     "output_type": "stream",
     "text": [
      "root\n",
      " |-- gender: double (nullable = true)\n",
      " |-- subscription: double (nullable = true)\n",
      " |-- thumbsUp: double (nullable = true)\n",
      " |-- rollAdvert: double (nullable = true)\n",
      " |-- logOut: double (nullable = true)\n",
      " |-- thumbsDown: double (nullable = true)\n",
      " |-- addFriend: double (nullable = true)\n",
      " |-- songsByHour: double (nullable = true)\n",
      " |-- songsBySession: double (nullable = true)\n",
      " |-- days: double (nullable = true)\n",
      " |-- label: double (nullable = true)\n",
      "\n"
     ]
    }
   ],
   "source": [
    "# convert data type to double\n",
    "for col in df_features.columns:\n",
    "    df_features = df_features.withColumn(col, sf.col(col).cast('double'))\n",
    "\n",
    "df_features.printSchema()"
   ]
  },
  {
   "cell_type": "markdown",
   "metadata": {},
   "source": [
    "## Vector Assembler"
   ]
  },
  {
   "cell_type": "code",
   "execution_count": 67,
   "metadata": {},
   "outputs": [
    {
     "name": "stdout",
     "output_type": "stream",
     "text": [
      "+------+------------+--------+----------+------+----------+---------+------------------+------------------+------------------+-----+--------------------+\n",
      "|gender|subscription|thumbsUp|rollAdvert|logOut|thumbsDown|addFriend|       songsByHour|    songsBySession|              days|label|            features|\n",
      "+------+------------+--------+----------+------+----------+---------+------------------+------------------+------------------+-----+--------------------+\n",
      "|   1.0|         1.0|    37.0|       1.0|  11.0|       4.0|     12.0|28.041666666666668|112.16666666666667| 51.76265046296297|  0.0|[1.0,1.0,37.0,1.0...|\n",
      "|   1.0|         1.0|   148.0|      25.0|  35.0|      27.0|     49.0|            111.75| 78.88235294117646| 64.87377314814815|  0.0|[1.0,1.0,148.0,25...|\n",
      "|   0.0|         0.0|     8.0|      14.0|   7.0|       2.0|      2.0|11.083333333333334|             33.25| 44.80021990740741|  1.0|[0.0,0.0,8.0,14.0...|\n",
      "|   0.0|         1.0|     5.0|       3.0|   1.0|       0.0|      1.0|              15.0|             48.75|160.47207175925925|  0.0|[0.0,1.0,5.0,3.0,...|\n",
      "|   0.0|         0.0|     3.0|       9.0|   3.0|       0.0|      0.0|             12.75|              25.5|22.748113425925926|  1.0|[0.0,0.0,3.0,9.0,...|\n",
      "+------+------------+--------+----------+------+----------+---------+------------------+------------------+------------------+-----+--------------------+\n",
      "only showing top 5 rows\n",
      "\n"
     ]
    }
   ],
   "source": [
    "# assemble all features into a single vector\n",
    "assembler = VectorAssembler(inputCols=df_features.columns[:-1], outputCol='features')\n",
    "df_features = assembler.transform(df_features)\n",
    "df_features.show(5)"
   ]
  },
  {
   "cell_type": "markdown",
   "metadata": {},
   "source": [
    "## Standardization"
   ]
  },
  {
   "cell_type": "code",
   "execution_count": 68,
   "metadata": {},
   "outputs": [
    {
     "name": "stdout",
     "output_type": "stream",
     "text": [
      "+------+------------+--------+----------+------+----------+---------+------------------+------------------+------------------+-----+--------------------+--------------------+\n",
      "|gender|subscription|thumbsUp|rollAdvert|logOut|thumbsDown|addFriend|       songsByHour|    songsBySession|              days|label|            features|      scaledFeatures|\n",
      "+------+------------+--------+----------+------+----------+---------+------------------+------------------+------------------+-----+--------------------+--------------------+\n",
      "|   1.0|         1.0|    37.0|       1.0|  11.0|       4.0|     12.0|28.041666666666668|112.16666666666667| 51.76265046296297|  0.0|[1.0,1.0,37.0,1.0...|[2.00127105192366...|\n",
      "|   1.0|         1.0|   148.0|      25.0|  35.0|      27.0|     49.0|            111.75| 78.88235294117646| 64.87377314814815|  0.0|[1.0,1.0,148.0,25...|[2.00127105192366...|\n",
      "|   0.0|         0.0|     8.0|      14.0|   7.0|       2.0|      2.0|11.083333333333334|             33.25| 44.80021990740741|  1.0|[0.0,0.0,8.0,14.0...|[0.0,0.0,0.122178...|\n",
      "|   0.0|         1.0|     5.0|       3.0|   1.0|       0.0|      1.0|              15.0|             48.75|160.47207175925925|  0.0|[0.0,1.0,5.0,3.0,...|[0.0,2.0844250013...|\n",
      "|   0.0|         0.0|     3.0|       9.0|   3.0|       0.0|      0.0|             12.75|              25.5|22.748113425925926|  1.0|[0.0,0.0,3.0,9.0,...|[0.0,0.0,0.045816...|\n",
      "+------+------------+--------+----------+------+----------+---------+------------------+------------------+------------------+-----+--------------------+--------------------+\n",
      "only showing top 5 rows\n",
      "\n"
     ]
    }
   ],
   "source": [
    "# standardize the features\n",
    "scaler = StandardScaler(inputCol='features', outputCol='scaledFeatures', withStd=True)\n",
    "scalerModel = scaler.fit(df_features)\n",
    "df_features = scalerModel.transform(df_features)\n",
    "df_features.show(5)"
   ]
  },
  {
   "cell_type": "code",
   "execution_count": 69,
   "metadata": {},
   "outputs": [
    {
     "data": {
      "text/plain": [
       "[Row(features=DenseVector([1.0, 1.0, 37.0, 1.0, 11.0, 4.0, 12.0, 28.0417, 112.1667, 51.7627]), scaledFeatures=DenseVector([2.0013, 2.0844, 0.5651, 0.0464, 0.7168, 0.3059, 0.583, 0.6358, 2.6321, 1.3744]), label=0.0)]"
      ]
     },
     "execution_count": 69,
     "metadata": {},
     "output_type": "execute_result"
    }
   ],
   "source": [
    "df_features.select(['features', 'scaledFeatures', 'label']).head(1)"
   ]
  },
  {
   "cell_type": "markdown",
   "metadata": {},
   "source": [
    "# Modeling\n",
    "<!-- *Split the full dataset into train, test, and validation sets. Test out several of the machine learning methods you learned. Evaluate the accuracy of the various models, tuning parameters as necessary. Determine your winning model based on test accuracy and report results on the validation set. Since the churned users are a fairly small subset, I suggest using F1 score as the metric to optimize.* -->\n",
    "\n",
    "### Algorithms\n",
    "Churn prediction is a binary classification problem where we want to predict whether a user will churn from or stay with Sparkify. \n",
    "The following machine learning algorithms are suitable for our binary classification problem and will be investigated:\n",
    " - **Logistic Regression**: Given the binary classification nature of the problem, logistic regression is a solid choice.  It offers a well-explained model, is simple to implement and interpret, trains efficiently, and is less prone to overfitting.\n",
    " - **Random Forest Classifier**: Random Forest is a strong classification algorithm in supervised learning.  As an ensemble method, it constructs numerous decision trees and bases its final prediction on a majority vote, reducing the risk of overfitting.  Its robustness and effectiveness with imbalanced datasets make it suitable for this particular task.\n",
    " - **Gradient-Boosted Tree Classifier**: Gradient Boosting Trees (GBT) offers high predictive accuracy by sequentially building trees, with each new tree correcting the errors of its predecessor.  This contrasts with Random Forest, which constructs trees independently. While GBT has a potential for overfitting that requires attention, its strong performance with imbalanced data makes it a viable option for this project.\n",
    " - **Linear Support Vector Machine**: Support Vector Classifier (SVC) is a supervised learning algorithm used for binary classification.  It performs well when there's a clear separation between classes and is efficient in terms of memory usage.\n",
    " - **Naive Bayes**: Lastly, we will use Naive Bayes, a classifier known for its ease of implementation and speed.\n",
    "\n",
    "### Metrics\n",
    "The F1-score is selected to evaluate the performance of our classification models. It provides a more balanced measure of accuracy than simply looking at overall accuracy, especially when dealing with imbalanced datasets like ours. Specifically, the F1 score combines precision and recall, giving a better indication of misclassifications.\n",
    "\n",
    "The definition of the F1-score and accuracy metric is given below, where $TP$ = True Positive, $TN$ = True Negative, $FP$ = False Positive, and $FN$ = False Negative.\n",
    "$$\\text{Accuracy} = \\frac{TP + TN}{TP + TN + FP + FN}$$\n",
    "$$\\text{F1-score} = 2\\times\\frac{\\text{Precision}\\times\\text{Recall}}{\\text{Precision} + \\text{Recall}} = \\frac{2TP}{2TP + FP + FN}$$\n",
    "\n",
    "\n",
    "### Techniques\n",
    "All predictive models will be trained on the training set and evaluated on the validation set.\n",
    "The selected model will be based on the accuracy (F1-score) and training time.\n",
    "After selecting the model, we fine-tune its parameters by cross-validation and grid search techniques to find the best one. Lastly, the importance factor for each feature of the final model will be investigated."
   ]
  },
  {
   "cell_type": "markdown",
   "metadata": {},
   "source": [
    "## Train/Test/Validaton Split"
   ]
  },
  {
   "cell_type": "code",
   "execution_count": 70,
   "metadata": {},
   "outputs": [
    {
     "name": "stdout",
     "output_type": "stream",
     "text": [
      "+-----+-----+\n",
      "|label|count|\n",
      "+-----+-----+\n",
      "|  0.0|  173|\n",
      "|  1.0|   52|\n",
      "+-----+-----+\n",
      "\n"
     ]
    }
   ],
   "source": [
    "df_features.groupBy('label').count().show()"
   ]
  },
  {
   "cell_type": "code",
   "execution_count": 71,
   "metadata": {},
   "outputs": [
    {
     "name": "stdout",
     "output_type": "stream",
     "text": [
      "train:  136\n",
      "test:  54\n",
      "validation:  35\n"
     ]
    }
   ],
   "source": [
    "# split the data into training, testing, and validation sets\n",
    "train, test, valid = df_features.randomSplit([0.6, 0.2, 0.2], seed=42)\n",
    "print('train: ', train.count())\n",
    "print('test: ', test.count())\n",
    "print('validation: ', valid.count())"
   ]
  },
  {
   "cell_type": "markdown",
   "metadata": {},
   "source": [
    "## Model Selection\n"
   ]
  },
  {
   "cell_type": "code",
   "execution_count": 72,
   "metadata": {},
   "outputs": [],
   "source": [
    "# instantiate all classifiers\n",
    "from pyspark.ml.classification import LogisticRegression, RandomForestClassifier, GBTClassifier, LinearSVC, NaiveBayes\n",
    "from pyspark.ml.evaluation import MulticlassClassificationEvaluator\n",
    "from time import time\n",
    "\n",
    "lr = LogisticRegression(maxIter=10, featuresCol='scaledFeatures', labelCol='label')\n",
    "rf = RandomForestClassifier(featuresCol='scaledFeatures', labelCol='label', seed=42)\n",
    "gbt = GBTClassifier(featuresCol='scaledFeatures', labelCol='label', seed=42)\n",
    "lsvc = LinearSVC(featuresCol='scaledFeatures', labelCol='label')\n",
    "nb = NaiveBayes(featuresCol='scaledFeatures', labelCol='label')"
   ]
  },
  {
   "cell_type": "code",
   "execution_count": 73,
   "metadata": {},
   "outputs": [
    {
     "name": "stdout",
     "output_type": "stream",
     "text": [
      "LogisticRegressionModel: uid=LogisticRegression_ecd3451d0872, numClasses=2, numFeatures=10\n",
      "          f1 score: 0.7253644314868806\n",
      "          training time: 136.72 s\n",
      "          prediction time: 0.08 s\n",
      "          accuracy: 0.74\n",
      "\n",
      "RandomForestClassificationModel: uid=RandomForestClassifier_f34c057e6108, numTrees=20, numClasses=2, numFeatures=10\n",
      "          f1 score: 0.7253644314868806\n",
      "          training time: 170.31 s\n",
      "          prediction time: 0.09 s\n",
      "          accuracy: 0.74\n",
      "\n",
      "GBTClassificationModel: uid = GBTClassifier_ad08c7c76e62, numTrees=20, numClasses=2, numFeatures=10\n",
      "          f1 score: 0.6829206349206348\n",
      "          training time: 81.74 s\n",
      "          prediction time: 0.07 s\n",
      "          accuracy: 0.69\n",
      "\n",
      "LinearSVCModel: uid=LinearSVC_b105ec02a677, numClasses=2, numFeatures=10\n",
      "          f1 score: 0.6885714285714286\n",
      "          training time: 165.55 s\n",
      "          prediction time: 0.07 s\n",
      "          accuracy: 0.71\n",
      "\n",
      "NaiveBayesModel: uid=NaiveBayes_c9a5ef370bd6, modelType=multinomial, numClasses=2, numFeatures=10\n",
      "          f1 score: 0.5469387755102042\n",
      "          training time: 73.55 s\n",
      "          prediction time: 0.07 s\n",
      "          accuracy: 0.66\n",
      "\n"
     ]
    }
   ],
   "source": [
    "# evaluate all the models\n",
    "\n",
    "models = [lr, rf, gbt, lsvc, nb]\n",
    "evaluator = MulticlassClassificationEvaluator(labelCol='label', predictionCol='prediction', metricName='f1')\n",
    "\n",
    "for model in models:\n",
    "    t_start = time()\n",
    "    model = model.fit(train)\n",
    "    t_train = time() - t_start\n",
    "    t_start = time()\n",
    "    prediction = model.transform(valid)\n",
    "    t_predict = time() - t_start\n",
    "    f1 = evaluator.evaluate(prediction)\n",
    "    accuracy = prediction.filter(prediction.label == prediction.prediction).count() / prediction.count()\n",
    "    print(f'''{model}\n",
    "          f1 score: {f1}\n",
    "          training time: {t_train:.2f} s\n",
    "          prediction time: {t_predict:.2f} s\n",
    "          accuracy: {accuracy:.2f}\\n''')"
   ]
  },
  {
   "cell_type": "markdown",
   "metadata": {},
   "source": [
    "|| Logistic Regression | Random Forest | GBT Classifier | Linear SVC | Naive Bayes |\n",
    "| --- | --- | --- | --- | --- | --- |\n",
    "|F1-score| **0.725** | **0.725** | 0.683 | 0.689 | 0.547 |\n",
    "|Accuracy| **0.74** | **0.74** | 0.69 | 0.71 | 0.66 |\n",
    "|Training time (s)| 136.72 | 170.31 | 81.74 | 165.55 | **73.55** |\n",
    "\n",
    "We observe that `Logistic Regression` performed best in terms of the F1-score with reasonable running time.\n",
    "I will choose this algorithm to fine-tune its parameters to obtain the final model."
   ]
  },
  {
   "cell_type": "markdown",
   "metadata": {},
   "source": [
    "## Model Tuning"
   ]
  },
  {
   "cell_type": "markdown",
   "metadata": {},
   "source": [
    "The F1-score for Logistic Regression with default settings is 0.725 on the validation set.\n",
    "Let's see whether we can improve this performance by tuning the model parameters with the cross-validation technique.\n",
    "First, let's look at the parameters of the logistic regression model."
   ]
  },
  {
   "cell_type": "code",
   "execution_count": 74,
   "metadata": {},
   "outputs": [
    {
     "name": "stdout",
     "output_type": "stream",
     "text": [
      "Logistic Regression:\n",
      "aggregationDepth: suggested depth for treeAggregate (>= 2). (default: 2)\n",
      "elasticNetParam: the ElasticNet mixing parameter, in range [0, 1]. For alpha = 0, the penalty is an L2 penalty. For alpha = 1, it is an L1 penalty. (default: 0.0)\n",
      "family: The name of family which is a description of the label distribution to be used in the model. Supported options: auto, binomial, multinomial (default: auto)\n",
      "featuresCol: features column name. (default: features, current: scaledFeatures)\n",
      "fitIntercept: whether to fit an intercept term. (default: True)\n",
      "labelCol: label column name. (default: label, current: label)\n",
      "lowerBoundsOnCoefficients: The lower bounds on coefficients if fitting under bound constrained optimization. The bound matrix must be compatible with the shape (1, number of features) for binomial regression, or (number of classes, number of features) for multinomial regression. (undefined)\n",
      "lowerBoundsOnIntercepts: The lower bounds on intercepts if fitting under bound constrained optimization. The bounds vector size must beequal with 1 for binomial regression, or the number oflasses for multinomial regression. (undefined)\n",
      "maxBlockSizeInMB: maximum memory in MB for stacking input data into blocks. Data is stacked within partitions. If more than remaining data size in a partition then it is adjusted to the data size. Default 0.0 represents choosing optimal value, depends on specific algorithm. Must be >= 0. (default: 0.0)\n",
      "maxIter: max number of iterations (>= 0). (default: 100, current: 10)\n",
      "predictionCol: prediction column name. (default: prediction)\n",
      "probabilityCol: Column name for predicted class conditional probabilities. Note: Not all models output well-calibrated probability estimates! These probabilities should be treated as confidences, not precise probabilities. (default: probability)\n",
      "rawPredictionCol: raw prediction (a.k.a. confidence) column name. (default: rawPrediction)\n",
      "regParam: regularization parameter (>= 0). (default: 0.0)\n",
      "standardization: whether to standardize the training features before fitting the model. (default: True)\n",
      "threshold: Threshold in binary classification prediction, in range [0, 1]. If threshold and thresholds are both set, they must match.e.g. if threshold is p, then thresholds must be equal to [1-p, p]. (default: 0.5)\n",
      "thresholds: Thresholds in multi-class classification to adjust the probability of predicting each class. Array must have length equal to the number of classes, with values > 0, excepting that at most one value may be 0. The class with largest value p/t is predicted, where p is the original probability of that class and t is the class's threshold. (undefined)\n",
      "tol: the convergence tolerance for iterative algorithms (>= 0). (default: 1e-06)\n",
      "upperBoundsOnCoefficients: The upper bounds on coefficients if fitting under bound constrained optimization. The bound matrix must be compatible with the shape (1, number of features) for binomial regression, or (number of classes, number of features) for multinomial regression. (undefined)\n",
      "upperBoundsOnIntercepts: The upper bounds on intercepts if fitting under bound constrained optimization. The bound vector size must be equal with 1 for binomial regression, or the number of classes for multinomial regression. (undefined)\n",
      "weightCol: weight column name. If this is not set or empty, we treat all instance weights as 1.0. (undefined)\n"
     ]
    }
   ],
   "source": [
    "# print out the Logistic Regression model's parameters\n",
    "print('Logistic Regression:')\n",
    "print(lr.explainParams())"
   ]
  },
  {
   "cell_type": "markdown",
   "metadata": {},
   "source": [
    "I select the following parameters for tuning:\n",
    "- **aggregationDepth**: increase the depth for treeAggregate to improve the prediction performance.\n",
    "- **regParam**: non-zero regularization parameters to avoid overfitting.\n",
    "- **elasticNetParam**: the ElasticNet mixing parameter with alpha=0.5 for a mixing of L1 and L2 penalty.\n",
    "\n"
   ]
  },
  {
   "cell_type": "code",
   "execution_count": 80,
   "metadata": {},
   "outputs": [],
   "source": [
    "from pyspark.ml.tuning import ParamGridBuilder, CrossValidator\n",
    "\n",
    "paramGrid = ParamGridBuilder()\\\n",
    "    .addGrid(lr.aggregationDepth, [2, 5])\\\n",
    "    .addGrid(lr.regParam, [0.1, 0.01])\\\n",
    "    .addGrid(lr.elasticNetParam, [0.0, 0.5])\\\n",
    "    .build()\n",
    "\n",
    "crossval = CrossValidator(estimator=lr, estimatorParamMaps=paramGrid,\n",
    "                          evaluator=evaluator, numFolds=3)"
   ]
  },
  {
   "cell_type": "code",
   "execution_count": 81,
   "metadata": {},
   "outputs": [
    {
     "name": "stdout",
     "output_type": "stream",
     "text": [
      "CPU times: total: 14.9 s\n",
      "Wall time: 12min 55s\n"
     ]
    }
   ],
   "source": [
    "%%time\n",
    "cvModel = crossval.fit(train)"
   ]
  },
  {
   "cell_type": "code",
   "execution_count": 82,
   "metadata": {},
   "outputs": [
    {
     "data": {
      "text/plain": [
       "[0.7401018922496241,\n",
       " 0.7139828637470148,\n",
       " 0.8078171998593752,\n",
       " 0.8128454195959715,\n",
       " 0.7401018922496241,\n",
       " 0.7139828637470148,\n",
       " 0.8078171998593752,\n",
       " 0.8128454195959715]"
      ]
     },
     "execution_count": 82,
     "metadata": {},
     "output_type": "execute_result"
    }
   ],
   "source": [
    "cvModel.avgMetrics"
   ]
  },
  {
   "cell_type": "markdown",
   "metadata": {},
   "source": [
    "Let's look at the performance of the best model founded."
   ]
  },
  {
   "cell_type": "code",
   "execution_count": 83,
   "metadata": {},
   "outputs": [
    {
     "name": "stdout",
     "output_type": "stream",
     "text": [
      "f1 score: 0.7508571428571429\n",
      "accuracy: 0.7714285714285715\n"
     ]
    }
   ],
   "source": [
    "# performance of the final model\n",
    "results = cvModel.transform(valid)\n",
    "best_model = cvModel.bestModel\n",
    "f1 = evaluator.evaluate(results)\n",
    "accuracy = results.filter(results.label == results.prediction).count() / results.count()\n",
    "print(f'f1 score: {f1}\\naccuracy: {accuracy}')"
   ]
  },
  {
   "cell_type": "markdown",
   "metadata": {},
   "source": [
    "Definitely, we see some improvement here after fine-tuning the model parameter: \n",
    "\n",
    "|| F1-score | Accuracy |\n",
    "|---|---|---|\n",
    "| **Before** | 0.725 | 0.74 |\n",
    "| **After** | 0.751 | 0.77 |"
   ]
  },
  {
   "cell_type": "markdown",
   "metadata": {},
   "source": [
    "Finally, let's look at the fine-tuned parameters of the final model."
   ]
  },
  {
   "cell_type": "code",
   "execution_count": 92,
   "metadata": {},
   "outputs": [
    {
     "data": {
      "text/plain": [
       "{Param(parent='LogisticRegression_ecd3451d0872', name='aggregationDepth', doc='suggested depth for treeAggregate (>= 2).'): 2,\n",
       " Param(parent='LogisticRegression_ecd3451d0872', name='elasticNetParam', doc='the ElasticNet mixing parameter, in range [0, 1]. For alpha = 0, the penalty is an L2 penalty. For alpha = 1, it is an L1 penalty.'): 0.5,\n",
       " Param(parent='LogisticRegression_ecd3451d0872', name='family', doc='The name of family which is a description of the label distribution to be used in the model. Supported options: auto, binomial, multinomial'): 'auto',\n",
       " Param(parent='LogisticRegression_ecd3451d0872', name='featuresCol', doc='features column name.'): 'scaledFeatures',\n",
       " Param(parent='LogisticRegression_ecd3451d0872', name='fitIntercept', doc='whether to fit an intercept term.'): True,\n",
       " Param(parent='LogisticRegression_ecd3451d0872', name='labelCol', doc='label column name.'): 'label',\n",
       " Param(parent='LogisticRegression_ecd3451d0872', name='maxBlockSizeInMB', doc='maximum memory in MB for stacking input data into blocks. Data is stacked within partitions. If more than remaining data size in a partition then it is adjusted to the data size. Default 0.0 represents choosing optimal value, depends on specific algorithm. Must be >= 0.'): 0.0,\n",
       " Param(parent='LogisticRegression_ecd3451d0872', name='maxIter', doc='max number of iterations (>= 0).'): 10,\n",
       " Param(parent='LogisticRegression_ecd3451d0872', name='predictionCol', doc='prediction column name.'): 'prediction',\n",
       " Param(parent='LogisticRegression_ecd3451d0872', name='probabilityCol', doc='Column name for predicted class conditional probabilities. Note: Not all models output well-calibrated probability estimates! These probabilities should be treated as confidences, not precise probabilities.'): 'probability',\n",
       " Param(parent='LogisticRegression_ecd3451d0872', name='rawPredictionCol', doc='raw prediction (a.k.a. confidence) column name.'): 'rawPrediction',\n",
       " Param(parent='LogisticRegression_ecd3451d0872', name='regParam', doc='regularization parameter (>= 0).'): 0.01,\n",
       " Param(parent='LogisticRegression_ecd3451d0872', name='standardization', doc='whether to standardize the training features before fitting the model.'): True,\n",
       " Param(parent='LogisticRegression_ecd3451d0872', name='threshold', doc='Threshold in binary classification prediction, in range [0, 1]. If threshold and thresholds are both set, they must match.e.g. if threshold is p, then thresholds must be equal to [1-p, p].'): 0.5,\n",
       " Param(parent='LogisticRegression_ecd3451d0872', name='tol', doc='the convergence tolerance for iterative algorithms (>= 0).'): 1e-06}"
      ]
     },
     "execution_count": 92,
     "metadata": {},
     "output_type": "execute_result"
    }
   ],
   "source": [
    "best_model.extractParamMap()"
   ]
  },
  {
   "cell_type": "code",
   "execution_count": 104,
   "metadata": {},
   "outputs": [
    {
     "name": "stdout",
     "output_type": "stream",
     "text": [
      "Best Model Parameters:\n",
      "aggregationDepth: 2\n",
      "elasticNetParam: 0.5\n",
      "regParam: 0.01\n"
     ]
    }
   ],
   "source": [
    "# get parameters of the best model\n",
    "paramMap = best_model.extractParamMap()\n",
    "params = [\"aggregationDepth\", \"elasticNetParam\", \"regParam\"]\n",
    "print('Best Model Parameters:')\n",
    "for p in params:\n",
    "    print(f'{p}: {paramMap[best_model.getParam(p)]}')"
   ]
  },
  {
   "cell_type": "markdown",
   "metadata": {},
   "source": [
    "By looking at the fine-tuned parameters, we observe that the final logistic regression model is improved by adding regularization with regParam=0.01 to avoid overfitting and adjusting the ElasticNet mixing parameter with elasticNetParam=0.5 for a mixing of L1 and L2 penalty."
   ]
  },
  {
   "cell_type": "markdown",
   "metadata": {},
   "source": [
    "## Feature Importance\n",
    "After the EDA, we have selected 10 features to be used in the predictive model. Let's investigate the impact of these features on the best model we found. Since the logistic regression model was selected, the feature importance factor can be viewed as the absolute value of the coefficient of each feature. "
   ]
  },
  {
   "cell_type": "code",
   "execution_count": 112,
   "metadata": {},
   "outputs": [
    {
     "name": "stdout",
     "output_type": "stream",
     "text": [
      "gender: 0.0\n",
      "subscription: 0.4853135923026047\n",
      "thumbsUp: -0.5063185911073417\n",
      "rollAdvert: 0.26481087864418507\n",
      "logOut: 0.0\n",
      "thumbsDown: 0.23664592177327645\n",
      "addFriend: -0.3962211157756591\n",
      "songsByHour: -0.0045499299547666575\n",
      "songsBySession: -0.49590271561385596\n",
      "days: -1.4126016703315158\n"
     ]
    }
   ],
   "source": [
    "# get the feature importances (coefficients) of the best model\n",
    "coefficients = best_model.coefficients\n",
    "for i, col in enumerate(df_features.columns[:len(coefficients)]):\n",
    "    print(f'{col}: {coefficients[i]}')"
   ]
  },
  {
   "cell_type": "code",
   "execution_count": 119,
   "metadata": {},
   "outputs": [
    {
     "data": {
      "text/plain": [
       "gender            0.000000\n",
       "logOut            0.000000\n",
       "songsByHour       0.004550\n",
       "thumbsDown        0.236646\n",
       "rollAdvert        0.264811\n",
       "addFriend         0.396221\n",
       "subscription      0.485314\n",
       "songsBySession    0.495903\n",
       "thumbsUp          0.506319\n",
       "days              1.412602\n",
       "dtype: float64"
      ]
     },
     "execution_count": 119,
     "metadata": {},
     "output_type": "execute_result"
    }
   ],
   "source": [
    "importances = {col: np.abs(coefficients[i]) for i, col in enumerate(df_features.columns[:len(coefficients)])}\n",
    "importances = pd.Series(importances).sort_values(ascending=True)\n",
    "importances"
   ]
  },
  {
   "cell_type": "code",
   "execution_count": 122,
   "metadata": {},
   "outputs": [
    {
     "data": {
      "image/png": "[encoded data removed]",
      "text/plain": [
       "<Figure size 800x500 with 1 Axes>"
      ]
     },
     "metadata": {},
     "output_type": "display_data"
    }
   ],
   "source": [
    "# plotting: feature importances\n",
    "plt.figure(figsize=(8, 5))\n",
    "importances.plot(kind='barh', title='Feature Importances')\n",
    "plt.xlabel('feature importance')\n",
    "plt.grid(axis='x', alpha=0.5)\n",
    "plt.tight_layout()\n",
    "plt.show()"
   ]
  },
  {
   "cell_type": "markdown",
   "metadata": {},
   "source": [
    "`Observation`:\n",
    "- The number of days since registration is the feature with the most impact on our logistic regression model.\n",
    "- Gender, log-out actions, and the number of songs played per hour have the least impact on the predictive model. "
   ]
  },
  {
   "cell_type": "markdown",
   "metadata": {},
   "source": [
    "# Conclusions\n",
    "\n",
    "### Reflection\n",
    "This project utilized a modest dataset of 128MB with 225 unique customers. Following data loading and cleaning, we conducted an exploratory data analysis to identify predictive features for customer churn. This process yielded a set of promising features, which were subsequently preprocessed and employed in conjunction with various machine learning algorithms. The Logistic Regression algorithm demonstrated the best performance with reasonable time complexity, and after model tuning, we achieved an accuracy and F1 score of 0.75 and an accuracy of 0.77. \n",
    "\n",
    "The music service provider (Sparkify) can leverage these findings to identify at-risk customers and proactively offer retention incentives, resulting in revenue preservation for the company and potential benefits for the customer:\n",
    "- Given the observed higher churn rate among newer customers, a targeted approach could involve offering complimentary premium service trials, free from advertisements.\n",
    "- Furthermore, developing a refined music recommendation system could enhance user satisfaction by suggesting more relevant content, thereby increasing thumbs-up and reducing thumbs-down actions.\n",
    "\n",
    "This project provided experience in utilizing Spark for data manipulation and feature engineering to predict customer churn. Spark MLlib was employed to develop machine learning models for this purpose. A key aspect of the project was leveraging customer interaction data to predict churn probability. The Logistic Regression classifier proved to be the most effective model, achieving an accuracy of 0.77 and F1 score of 0.75. It was interesting to clean data and build a predictive model for churn prediction using a big data technology (Spark) as opposed to non-distributed technologies like Scikit-learn and Pandas. \n",
    "\n",
    "### Future Work\n",
    "This project could be improved with the following directions:\n",
    "- extract more features from the user interaction data to be used in the predictive model. For example, the improved model can consider the number of artists that each user listen to, which is a potential feature for churn prediction.\n",
    "- investigate other machine learning algorithms that are suitable for the binary classificationi of churn prediction. For example, deep learning algorithms can be investigated to examine hidden features in the user interaction data.\n",
    "- investigate to deal with the overfitting problem and the imbalance of data labels.\n"
   ]
  }
 ],
 "metadata": {
  "kernelspec": {
   "display_name": "pyspark-env",
   "language": "python",
   "name": "python3"
  },
  "language_info": {
   "codemirror_mode": {
    "name": "ipython",
    "version": 3
   },
   "file_extension": ".py",
   "mimetype": "text/x-python",
   "name": "python",
   "nbconvert_exporter": "python",
   "pygments_lexer": "ipython3",
   "version": "3.11.8"
  }
 },
 "nbformat": 4,
 "nbformat_minor": 2
}
